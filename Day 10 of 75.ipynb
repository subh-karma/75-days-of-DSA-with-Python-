{
 "cells": [
  {
   "cell_type": "markdown",
   "id": "04c9e086",
   "metadata": {},
   "source": [
    "# Problem: Move All Zeros to the End\n"
   ]
  },
  {
   "cell_type": "code",
   "execution_count": 1,
   "id": "719cadcb",
   "metadata": {},
   "outputs": [],
   "source": [
    "def move_zeros_to_end(arr):\n",
    "    n = len(arr)\n",
    "    non_zero_index = 0\n",
    "\n",
    "    # Place non-zero elements at the beginning\n",
    "    for i in range(n):\n",
    "        if arr[i] != 0:\n",
    "            arr[non_zero_index] = arr[i]\n",
    "            non_zero_index += 1\n",
    "\n",
    "    # Fill the rest with zeros\n",
    "    for i in range(non_zero_index, n):\n",
    "        arr[i] = 0\n",
    "\n",
    "    return arr\n",
    "\n",
    "\n"
   ]
  },
  {
   "cell_type": "code",
   "execution_count": 2,
   "id": "be071c84",
   "metadata": {},
   "outputs": [
    {
     "name": "stdout",
     "output_type": "stream",
     "text": [
      "Array after moving zeros: [1, 3, 12, 0, 0]\n"
     ]
    }
   ],
   "source": [
    "arr = [0, 1, 0, 3, 12]\n",
    "print(\"Array after moving zeros:\", move_zeros_to_end(arr))"
   ]
  },
  {
   "cell_type": "code",
   "execution_count": null,
   "id": "c737ff88",
   "metadata": {},
   "outputs": [],
   "source": []
  }
 ],
 "metadata": {
  "kernelspec": {
   "display_name": "Python 3 (ipykernel)",
   "language": "python",
   "name": "python3"
  },
  "language_info": {
   "codemirror_mode": {
    "name": "ipython",
    "version": 3
   },
   "file_extension": ".py",
   "mimetype": "text/x-python",
   "name": "python",
   "nbconvert_exporter": "python",
   "pygments_lexer": "ipython3",
   "version": "3.11.4"
  }
 },
 "nbformat": 4,
 "nbformat_minor": 5
}
