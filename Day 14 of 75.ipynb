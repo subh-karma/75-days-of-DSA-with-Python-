{
 "cells": [
  {
   "cell_type": "markdown",
   "id": "acb57264",
   "metadata": {},
   "source": [
    "# Problem\n",
    "Given an array of integers, find the second largest element in the array. If there is no second largest element (e.g., all elements are the same), return None."
   ]
  },
  {
   "cell_type": "raw",
   "id": "3768888d",
   "metadata": {},
   "source": [
    "Input: arr = [10, 5, 20, 8, 20]\n",
    "Output: 10\n",
    "\n",
    "Input: arr = [3, 3, 3]\n",
    "Output: None"
   ]
  },
  {
   "cell_type": "code",
   "execution_count": 2,
   "id": "7fdccbef",
   "metadata": {},
   "outputs": [
    {
     "data": {
      "text/plain": [
       "20"
      ]
     },
     "execution_count": 2,
     "metadata": {},
     "output_type": "execute_result"
    }
   ],
   "source": [
    "arr = [10, 5, 20, 8, 20]\n",
    "second_largest(arr)"
   ]
  },
  {
   "cell_type": "code",
   "execution_count": 3,
   "id": "b50ad11a",
   "metadata": {},
   "outputs": [
    {
     "name": "stdout",
     "output_type": "stream",
     "text": [
      "10\n",
      "None\n"
     ]
    }
   ],
   "source": [
    "def find_second_largest(arr):\n",
    "    # If the array has less than 2 elements, return None\n",
    "    if len(arr) < 2:\n",
    "        return None\n",
    "\n",
    "    # Initialize two variables to track the largest and second largest elements\n",
    "    largest = second_largest = float('-inf')\n",
    "\n",
    "    for num in arr:\n",
    "        # Update largest and second largest if necessary\n",
    "        if num > largest:\n",
    "            second_largest = largest\n",
    "            largest = num\n",
    "        elif num > second_largest and num != largest:\n",
    "            second_largest = num\n",
    "\n",
    "    # If second_largest was never updated, return None\n",
    "    return second_largest if second_largest != float('-inf') else None\n",
    "\n",
    "# Test cases\n",
    "print(find_second_largest([10, 5, 20, 8, 20]))  # Output: 10\n",
    "print(find_second_largest([3, 3, 3]))           # Output: None\n"
   ]
  },
  {
   "cell_type": "code",
   "execution_count": 1,
   "id": "9efecda5",
   "metadata": {},
   "outputs": [],
   "source": [
    "def second_largest(arr):\n",
    "    # Check if all elements are the same\n",
    "    if len(set(arr)) == 1:\n",
    "        return None\n",
    "\n",
    "    # Your logic for finding the second largest element goes here\n",
    "    # For example, you can use the max() function with a key parameter\n",
    "    # This will return the second largest element if there are no duplicates\n",
    "    else:\n",
    "        return max(set(arr)) if max(arr) != min(arr) else None"
   ]
  },
  {
   "cell_type": "code",
   "execution_count": null,
   "id": "bff251ff",
   "metadata": {},
   "outputs": [],
   "source": []
  }
 ],
 "metadata": {
  "kernelspec": {
   "display_name": "Python 3 (ipykernel)",
   "language": "python",
   "name": "python3"
  },
  "language_info": {
   "codemirror_mode": {
    "name": "ipython",
    "version": 3
   },
   "file_extension": ".py",
   "mimetype": "text/x-python",
   "name": "python",
   "nbconvert_exporter": "python",
   "pygments_lexer": "ipython3",
   "version": "3.11.4"
  }
 },
 "nbformat": 4,
 "nbformat_minor": 5
}
