{
 "cells": [
  {
   "cell_type": "code",
   "execution_count": 1,
   "id": "b5342682",
   "metadata": {},
   "outputs": [
    {
     "name": "stdout",
     "output_type": "stream",
     "text": [
      "Output: [24, 12, 8, 6]\n"
     ]
    }
   ],
   "source": [
    "def product_except_self(nums):\n",
    "    # Initialize the result array with 1s\n",
    "    result = [1] * len(nums)\n",
    "    \n",
    "    # Calculate products of elements to the left of each index\n",
    "    left_product = 1\n",
    "    for i in range(len(nums)):\n",
    "        result[i] = left_product\n",
    "        left_product *= nums[i]\n",
    "    \n",
    "    # Calculate products of elements to the right of each index\n",
    "    right_product = 1\n",
    "    for i in range(len(nums) - 1, -1, -1):\n",
    "        result[i] *= right_product\n",
    "        right_product *= nums[i]\n",
    "    \n",
    "    return result\n",
    "\n",
    "# Example usage\n",
    "nums = [1, 2, 3, 4]\n",
    "print(\"Output:\", product_except_self(nums))\n"
   ]
  },
  {
   "cell_type": "code",
   "execution_count": null,
   "id": "def38d5d",
   "metadata": {},
   "outputs": [],
   "source": []
  }
 ],
 "metadata": {
  "kernelspec": {
   "display_name": "Python 3 (ipykernel)",
   "language": "python",
   "name": "python3"
  },
  "language_info": {
   "codemirror_mode": {
    "name": "ipython",
    "version": 3
   },
   "file_extension": ".py",
   "mimetype": "text/x-python",
   "name": "python",
   "nbconvert_exporter": "python",
   "pygments_lexer": "ipython3",
   "version": "3.11.4"
  }
 },
 "nbformat": 4,
 "nbformat_minor": 5
}
