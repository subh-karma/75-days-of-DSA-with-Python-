{
 "cells": [
  {
   "cell_type": "code",
   "execution_count": 1,
   "id": "28fedd2a",
   "metadata": {},
   "outputs": [
    {
     "name": "stdout",
     "output_type": "stream",
     "text": [
      "root.right.left.data: E\n"
     ]
    }
   ],
   "source": [
    "binary_tree_array = ['R', 'A', 'B', 'C', 'D', 'E', 'F', None, None, None, None, None, None, 'G']\n",
    "\n",
    "def left_child_index(index):\n",
    "    return 2 * index + 1\n",
    "\n",
    "def right_child_index(index):\n",
    "    return 2 * index + 2\n",
    "\n",
    "def get_data(index):\n",
    "    if 0 <= index < len(binary_tree_array):\n",
    "        return binary_tree_array[index]\n",
    "    return None\n",
    "\n",
    "right_child = right_child_index(0)\n",
    "left_child_of_right_child = left_child_index(right_child)\n",
    "data = get_data(left_child_of_right_child)\n",
    "\n",
    "print(\"root.right.left.data:\", data)"
   ]
  },
  {
   "cell_type": "code",
   "execution_count": null,
   "id": "47fc00f9",
   "metadata": {},
   "outputs": [],
   "source": []
  }
 ],
 "metadata": {
  "kernelspec": {
   "display_name": "Python 3 (ipykernel)",
   "language": "python",
   "name": "python3"
  },
  "language_info": {
   "codemirror_mode": {
    "name": "ipython",
    "version": 3
   },
   "file_extension": ".py",
   "mimetype": "text/x-python",
   "name": "python",
   "nbconvert_exporter": "python",
   "pygments_lexer": "ipython3",
   "version": "3.11.4"
  }
 },
 "nbformat": 4,
 "nbformat_minor": 5
}
