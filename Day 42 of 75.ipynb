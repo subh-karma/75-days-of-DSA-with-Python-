{
 "cells": [
  {
   "cell_type": "code",
   "execution_count": 1,
   "id": "a79a2d79",
   "metadata": {},
   "outputs": [
    {
     "name": "stdout",
     "output_type": "stream",
     "text": [
      "The 2th largest element is 5\n"
     ]
    }
   ],
   "source": [
    "import heapq\n",
    "\n",
    "def find_kth_largest(nums, k):\n",
    "    # Step 1: Create a Min-Heap of size k\n",
    "    min_heap = nums[:k]\n",
    "    heapq.heapify(min_heap)  # Create a heap from the first k elements\n",
    "\n",
    "    # Step 2: Process the remaining elements\n",
    "    for num in nums[k:]:\n",
    "        if num > min_heap[0]:  # Compare with the smallest element in the heap\n",
    "            heapq.heappop(min_heap)  # Remove the smallest\n",
    "            heapq.heappush(min_heap, num)  # Add the current number\n",
    "\n",
    "    # Step 3: Return the root of the heap (Kth largest element)\n",
    "    return min_heap[0]\n",
    "\n",
    "# Example Usage\n",
    "nums = [3, 2, 1, 5, 6, 4]\n",
    "k = 2\n",
    "result = find_kth_largest(nums, k)\n",
    "print(f\"The {k}th largest element is {result}\")\n"
   ]
  },
  {
   "cell_type": "code",
   "execution_count": null,
   "id": "9e2ba505",
   "metadata": {},
   "outputs": [],
   "source": []
  }
 ],
 "metadata": {
  "kernelspec": {
   "display_name": "Python 3 (ipykernel)",
   "language": "python",
   "name": "python3"
  },
  "language_info": {
   "codemirror_mode": {
    "name": "ipython",
    "version": 3
   },
   "file_extension": ".py",
   "mimetype": "text/x-python",
   "name": "python",
   "nbconvert_exporter": "python",
   "pygments_lexer": "ipython3",
   "version": "3.11.4"
  }
 },
 "nbformat": 4,
 "nbformat_minor": 5
}
