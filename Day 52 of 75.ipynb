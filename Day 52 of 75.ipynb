{
 "cells": [
  {
   "cell_type": "code",
   "execution_count": 1,
   "id": "1da866d6",
   "metadata": {},
   "outputs": [
    {
     "name": "stdout",
     "output_type": "stream",
     "text": [
      "!dlroW ,olleH\n"
     ]
    }
   ],
   "source": [
    "class Stack:\n",
    "    def __init__(self):\n",
    "        self.STACK_CAPACITY = 101\n",
    "        self.stack_array = [''] * self.STACK_CAPACITY\n",
    "        self.top_index = -1\n",
    "\n",
    "    def push(self, character):\n",
    "        if self.is_full():\n",
    "            print(f\"Stack is full. Cannot push: {character}\")\n",
    "        else:\n",
    "            self.top_index += 1\n",
    "            self.stack_array[self.top_index] = character\n",
    "\n",
    "    def pop(self):\n",
    "        if self.is_empty():\n",
    "            print(\"Stack is empty. Cannot pop.\")\n",
    "            return None\n",
    "        else:\n",
    "            character = self.stack_array[self.top_index]\n",
    "            self.top_index -= 1\n",
    "            return character\n",
    "\n",
    "    def is_empty(self):\n",
    "        return self.top_index == -1\n",
    "\n",
    "    def is_full(self):\n",
    "        return self.top_index >= self.STACK_CAPACITY - 1\n",
    "\n",
    "if __name__ == \"__main__\":\n",
    "    input_string = \"Hello, World!\"\n",
    "    input_length = len(input_string)\n",
    "\n",
    "    char_stack = Stack()\n",
    "\n",
    "    # Push each character onto the stack\n",
    "    for i in range(input_length):\n",
    "        current_char = input_string[i]\n",
    "        char_stack.push(current_char)\n",
    "\n",
    "    # Pop the characters from the stack to construct the reversed string\n",
    "    reversed_string = \"\"\n",
    "    while not char_stack.is_empty():\n",
    "        reversed_string += char_stack.pop()\n",
    "\n",
    "    print(reversed_string)"
   ]
  },
  {
   "cell_type": "code",
   "execution_count": null,
   "id": "577bd94f",
   "metadata": {},
   "outputs": [],
   "source": []
  }
 ],
 "metadata": {
  "kernelspec": {
   "display_name": "Python 3 (ipykernel)",
   "language": "python",
   "name": "python3"
  },
  "language_info": {
   "codemirror_mode": {
    "name": "ipython",
    "version": 3
   },
   "file_extension": ".py",
   "mimetype": "text/x-python",
   "name": "python",
   "nbconvert_exporter": "python",
   "pygments_lexer": "ipython3",
   "version": "3.11.4"
  }
 },
 "nbformat": 4,
 "nbformat_minor": 5
}
