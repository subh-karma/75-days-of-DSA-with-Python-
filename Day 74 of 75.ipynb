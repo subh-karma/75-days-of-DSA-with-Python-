{
 "cells": [
  {
   "cell_type": "code",
   "execution_count": 1,
   "id": "a9bc7a8a",
   "metadata": {},
   "outputs": [
    {
     "name": "stdout",
     "output_type": "stream",
     "text": [
      "4 5 3 2 1 "
     ]
    }
   ],
   "source": [
    "from queue import Queue\n",
    "\n",
    "def reverse_k_elements(queue, k):\n",
    "    if queue.qsize() < k:\n",
    "        return \"Not enough elements to reverse\"\n",
    "    \n",
    "    stack = []\n",
    "    \n",
    "    # Dequeue first K elements and push onto stack\n",
    "    for _ in range(k):\n",
    "        stack.append(queue.get())\n",
    "    \n",
    "    # Push the elements back into the queue from stack\n",
    "    while stack:\n",
    "        queue.put(stack.pop())\n",
    "    \n",
    "    # Move the rest of the queue to the back\n",
    "    size = queue.qsize()\n",
    "    for _ in range(size):\n",
    "        queue.put(queue.get())\n",
    "    \n",
    "    return queue\n",
    "\n",
    "# Example Usage\n",
    "q = Queue()\n",
    "for i in range(1, 6):  # Queue: 1, 2, 3, 4, 5\n",
    "    q.put(i)\n",
    "\n",
    "k = 3\n",
    "result = reverse_k_elements(q, k)\n",
    "while not result.empty():\n",
    "    print(result.get(), end=\" \")  # Output: 3 2 1 4 5\n"
   ]
  },
  {
   "cell_type": "code",
   "execution_count": null,
   "id": "76673c70",
   "metadata": {},
   "outputs": [],
   "source": []
  }
 ],
 "metadata": {
  "kernelspec": {
   "display_name": "Python 3 (ipykernel)",
   "language": "python",
   "name": "python3"
  },
  "language_info": {
   "codemirror_mode": {
    "name": "ipython",
    "version": 3
   },
   "file_extension": ".py",
   "mimetype": "text/x-python",
   "name": "python",
   "nbconvert_exporter": "python",
   "pygments_lexer": "ipython3",
   "version": "3.11.4"
  }
 },
 "nbformat": 4,
 "nbformat_minor": 5
}
