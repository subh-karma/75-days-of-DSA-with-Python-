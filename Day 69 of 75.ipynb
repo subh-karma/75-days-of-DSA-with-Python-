{
 "cells": [
  {
   "cell_type": "code",
   "execution_count": 1,
   "id": "711f7d91",
   "metadata": {},
   "outputs": [
    {
     "name": "stdout",
     "output_type": "stream",
     "text": [
      "Name: Alice\n",
      "Age: 25\n",
      "Updated Dictionary: {'name': 'Alice', 'age': 25, 'city': 'New York', 'job': 'Engineer'}\n",
      "Age after update: 26\n",
      "Dictionary after deletion: {'name': 'Alice', 'age': 26, 'job': 'Engineer'}\n",
      "Iterating through dictionary:\n",
      "name: Alice\n",
      "age: 26\n",
      "job: Engineer\n",
      "Job exists in the dictionary.\n",
      "Keys: dict_keys(['name', 'age', 'job'])\n",
      "Values: dict_values(['Alice', 26, 'Engineer'])\n",
      "Items: dict_items([('name', 'Alice'), ('age', 26), ('job', 'Engineer')])\n",
      "Character Frequency: {'d': 1, 'a': 2, 't': 3, 's': 2, 'r': 2, 'u': 2, 'c': 1, 'e': 1}\n"
     ]
    }
   ],
   "source": [
    "# Creating a dictionary\n",
    "my_dict = {\n",
    "    \"name\": \"Alice\",\n",
    "    \"age\": 25,\n",
    "    \"city\": \"New York\"\n",
    "}\n",
    "\n",
    "# Accessing values\n",
    "print(\"Name:\", my_dict[\"name\"])  # Output: Alice\n",
    "print(\"Age:\", my_dict[\"age\"])    # Output: 25\n",
    "\n",
    "# Adding a new key-value pair\n",
    "my_dict[\"job\"] = \"Engineer\"\n",
    "print(\"Updated Dictionary:\", my_dict)\n",
    "\n",
    "# Updating an existing value\n",
    "my_dict[\"age\"] = 26\n",
    "print(\"Age after update:\", my_dict[\"age\"])\n",
    "\n",
    "# Deleting a key-value pair\n",
    "del my_dict[\"city\"]\n",
    "print(\"Dictionary after deletion:\", my_dict)\n",
    "\n",
    "# Iterating through a dictionary\n",
    "print(\"Iterating through dictionary:\")\n",
    "for key, value in my_dict.items():\n",
    "    print(f\"{key}: {value}\")\n",
    "\n",
    "# Checking if a key exists\n",
    "if \"job\" in my_dict:\n",
    "    print(\"Job exists in the dictionary.\")\n",
    "\n",
    "# Dictionary methods\n",
    "print(\"Keys:\", my_dict.keys())       # List of keys\n",
    "print(\"Values:\", my_dict.values())   # List of values\n",
    "print(\"Items:\", my_dict.items())     # List of key-value pairs\n",
    "\n",
    "# Example of using a dictionary to count character frequency\n",
    "string = \"datastructures\"\n",
    "char_count = {}\n",
    "\n",
    "for char in string:\n",
    "    char_count[char] = char_count.get(char, 0) + 1\n",
    "\n",
    "print(\"Character Frequency:\", char_count)\n"
   ]
  },
  {
   "cell_type": "code",
   "execution_count": null,
   "id": "f6129420",
   "metadata": {},
   "outputs": [],
   "source": []
  }
 ],
 "metadata": {
  "kernelspec": {
   "display_name": "Python 3 (ipykernel)",
   "language": "python",
   "name": "python3"
  },
  "language_info": {
   "codemirror_mode": {
    "name": "ipython",
    "version": 3
   },
   "file_extension": ".py",
   "mimetype": "text/x-python",
   "name": "python",
   "nbconvert_exporter": "python",
   "pygments_lexer": "ipython3",
   "version": "3.11.4"
  }
 },
 "nbformat": 4,
 "nbformat_minor": 5
}
