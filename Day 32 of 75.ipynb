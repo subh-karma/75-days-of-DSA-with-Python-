{
 "cells": [
  {
   "cell_type": "code",
   "execution_count": 1,
   "id": "a4b8351d",
   "metadata": {},
   "outputs": [
    {
     "name": "stdout",
     "output_type": "stream",
     "text": [
      "Original array: [170, 45, 75, 90, 802, 24, 2, 66]\n",
      "Sorted array: [2, 24, 45, 66, 75, 90, 170, 802]\n"
     ]
    }
   ],
   "source": [
    "myArray = [170, 45, 75, 90, 802, 24, 2, 66]\n",
    "print(\"Original array:\", myArray)\n",
    "radixArray = [[], [], [], [], [], [], [], [], [], []]\n",
    "maxVal = max(myArray)\n",
    "exp = 1\n",
    "\n",
    "while maxVal // exp > 0:\n",
    "\n",
    "    while len(myArray) > 0:\n",
    "        val = myArray.pop()\n",
    "        radixIndex = (val // exp) % 10\n",
    "        radixArray[radixIndex].append(val)\n",
    "\n",
    "    for bucket in radixArray:\n",
    "        while len(bucket) > 0:\n",
    "            val = bucket.pop()\n",
    "            myArray.append(val)\n",
    "\n",
    "    exp *= 10\n",
    "\n",
    "print(\"Sorted array:\", myArray)"
   ]
  },
  {
   "cell_type": "code",
   "execution_count": null,
   "id": "21dda43d",
   "metadata": {},
   "outputs": [],
   "source": []
  }
 ],
 "metadata": {
  "kernelspec": {
   "display_name": "Python 3 (ipykernel)",
   "language": "python",
   "name": "python3"
  },
  "language_info": {
   "codemirror_mode": {
    "name": "ipython",
    "version": 3
   },
   "file_extension": ".py",
   "mimetype": "text/x-python",
   "name": "python",
   "nbconvert_exporter": "python",
   "pygments_lexer": "ipython3",
   "version": "3.11.4"
  }
 },
 "nbformat": 4,
 "nbformat_minor": 5
}
