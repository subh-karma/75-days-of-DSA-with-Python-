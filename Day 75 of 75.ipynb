{
 "cells": [
  {
   "cell_type": "code",
   "execution_count": 2,
   "id": "bc016510",
   "metadata": {},
   "outputs": [],
   "source": [
    "class ListNode:\n",
    "    def __init__(self, val=0, next=None):\n",
    "        self.val = val\n",
    "        self.next = next\n",
    "\n",
    "def reverseList(head: ListNode) -> ListNode:\n",
    "    prev = None\n",
    "    current = head\n",
    "    \n",
    "    while current:\n",
    "        next_node = current.next  # Save the next node\n",
    "        current.next = prev       # Reverse the current node's pointer\n",
    "        prev = current            # Move prev and current one step forward\n",
    "        current = next_node\n",
    "    \n",
    "    return prev  # prev is the new head of the reversed list\n"
   ]
  },
  {
   "cell_type": "code",
   "execution_count": null,
   "id": "c047fb69",
   "metadata": {},
   "outputs": [],
   "source": []
  }
 ],
 "metadata": {
  "kernelspec": {
   "display_name": "Python 3 (ipykernel)",
   "language": "python",
   "name": "python3"
  },
  "language_info": {
   "codemirror_mode": {
    "name": "ipython",
    "version": 3
   },
   "file_extension": ".py",
   "mimetype": "text/x-python",
   "name": "python",
   "nbconvert_exporter": "python",
   "pygments_lexer": "ipython3",
   "version": "3.11.4"
  }
 },
 "nbformat": 4,
 "nbformat_minor": 5
}
