{
 "cells": [
  {
   "cell_type": "code",
   "execution_count": 1,
   "id": "f6b83309",
   "metadata": {},
   "outputs": [
    {
     "name": "stdout",
     "output_type": "stream",
     "text": [
      "Linked list after inserting nodes:\n",
      "10 -> 20 -> 30 -> 40 -> None\n",
      "\n",
      "Linked list after deleting a node with value 20:\n",
      "10 -> 30 -> 40 -> None\n"
     ]
    }
   ],
   "source": [
    "# Node class\n",
    "class Node:\n",
    "    def __init__(self, data):\n",
    "        self.data = data  # Store data\n",
    "        self.next = None  # Initialize the next pointer to None\n",
    "\n",
    "# Linked List class\n",
    "class LinkedList:\n",
    "    def __init__(self):\n",
    "        self.head = None  # Initialize head of list to None\n",
    "\n",
    "    # Insert a new node at the end\n",
    "    def insert(self, data):\n",
    "        new_node = Node(data)  # Create a new node\n",
    "        if self.head is None:  # If list is empty, make the new node the head\n",
    "            self.head = new_node\n",
    "        else:\n",
    "            last = self.head\n",
    "            while last.next:  # Traverse to the end of the list\n",
    "                last = last.next\n",
    "            last.next = new_node  # Link the last node to the new node\n",
    "\n",
    "    # Delete a node by value\n",
    "    def delete(self, key):\n",
    "        temp = self.head\n",
    "\n",
    "        # If the head node itself holds the key\n",
    "        if temp is not None:\n",
    "            if temp.data == key:\n",
    "                self.head = temp.next  # Change head\n",
    "                temp = None  # Free memory\n",
    "                return\n",
    "\n",
    "        # Search for the key to be deleted\n",
    "        prev = None\n",
    "        while temp is not None and temp.data != key:\n",
    "            prev = temp\n",
    "            temp = temp.next\n",
    "\n",
    "        # If the key was not present in the linked list\n",
    "        if temp is None:\n",
    "            print(f\"Node with data {key} not found.\")\n",
    "            return\n",
    "\n",
    "        # Unlink the node from linked list\n",
    "        prev.next = temp.next\n",
    "        temp = None\n",
    "\n",
    "    # Display the linked list\n",
    "    def display(self):\n",
    "        temp = self.head\n",
    "        while temp:\n",
    "            print(temp.data, end=\" -> \")\n",
    "            temp = temp.next\n",
    "        print(\"None\")\n",
    "\n",
    "# Example usage\n",
    "if __name__ == \"__main__\":\n",
    "    ll = LinkedList()\n",
    "    # Insert nodes\n",
    "    ll.insert(10)\n",
    "    ll.insert(20)\n",
    "    ll.insert(30)\n",
    "    ll.insert(40)\n",
    "    print(\"Linked list after inserting nodes:\")\n",
    "    ll.display()\n",
    "\n",
    "    # Delete a node\n",
    "    ll.delete(20)\n",
    "    print(\"\\nLinked list after deleting a node with value 20:\")\n",
    "    ll.display()\n"
   ]
  },
  {
   "cell_type": "code",
   "execution_count": null,
   "id": "6ceb5a19",
   "metadata": {},
   "outputs": [],
   "source": []
  }
 ],
 "metadata": {
  "kernelspec": {
   "display_name": "Python 3 (ipykernel)",
   "language": "python",
   "name": "python3"
  },
  "language_info": {
   "codemirror_mode": {
    "name": "ipython",
    "version": 3
   },
   "file_extension": ".py",
   "mimetype": "text/x-python",
   "name": "python",
   "nbconvert_exporter": "python",
   "pygments_lexer": "ipython3",
   "version": "3.11.4"
  }
 },
 "nbformat": 4,
 "nbformat_minor": 5
}
