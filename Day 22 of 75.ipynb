{
 "cells": [
  {
   "cell_type": "code",
   "execution_count": 1,
   "id": "28c00e2a",
   "metadata": {},
   "outputs": [
    {
     "name": "stdout",
     "output_type": "stream",
     "text": [
      "The 2 th largest element is: 5\n"
     ]
    }
   ],
   "source": [
    "import heapq\n",
    "\n",
    "def find_kth_largest(nums, k):\n",
    "    # Using a min-heap of size k to store the largest k elements\n",
    "    min_heap = nums[:k]\n",
    "    heapq.heapify(min_heap)\n",
    "    \n",
    "    # Process remaining elements\n",
    "    for num in nums[k:]:\n",
    "        if num > min_heap[0]:\n",
    "            heapq.heappop(min_heap)  # Remove the smallest in the heap\n",
    "            heapq.heappush(min_heap, num)\n",
    "    \n",
    "    # The root of the heap is the k-th largest element\n",
    "    return min_heap[0]\n",
    "\n",
    "# Test the function\n",
    "nums = [3, 2, 1, 5, 6, 4]\n",
    "k = 2\n",
    "print(\"The\", k, \"th largest element is:\", find_kth_largest(nums, k))\n"
   ]
  },
  {
   "cell_type": "code",
   "execution_count": null,
   "id": "cb1a6f10",
   "metadata": {},
   "outputs": [],
   "source": []
  }
 ],
 "metadata": {
  "kernelspec": {
   "display_name": "Python 3 (ipykernel)",
   "language": "python",
   "name": "python3"
  },
  "language_info": {
   "codemirror_mode": {
    "name": "ipython",
    "version": 3
   },
   "file_extension": ".py",
   "mimetype": "text/x-python",
   "name": "python",
   "nbconvert_exporter": "python",
   "pygments_lexer": "ipython3",
   "version": "3.11.4"
  }
 },
 "nbformat": 4,
 "nbformat_minor": 5
}
