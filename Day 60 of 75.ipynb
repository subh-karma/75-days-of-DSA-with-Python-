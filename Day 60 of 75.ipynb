{
 "cells": [
  {
   "cell_type": "code",
   "execution_count": 1,
   "id": "54ff4f85",
   "metadata": {},
   "outputs": [
    {
     "name": "stdout",
     "output_type": "stream",
     "text": [
      "Maximum Subarray Sum: 6\n"
     ]
    }
   ],
   "source": [
    "def maxSubArray(arr):\n",
    "    maxSum = float('-inf')  # Initialize to negative infinity\n",
    "    currentSum = 0\n",
    "    \n",
    "    for num in arr:\n",
    "        currentSum += num\n",
    "        if currentSum > maxSum:\n",
    "            maxSum = currentSum\n",
    "        if currentSum < 0:\n",
    "            currentSum = 0  # Reset if sum becomes negative\n",
    "    \n",
    "    return maxSum\n",
    "\n",
    "# Test the function\n",
    "arr = [-2, 1, -3, 4, -1, 2, 1, -5, 4]\n",
    "print(\"Maximum Subarray Sum:\", maxSubArray(arr))\n"
   ]
  },
  {
   "cell_type": "code",
   "execution_count": null,
   "id": "8b85b738",
   "metadata": {},
   "outputs": [],
   "source": []
  }
 ],
 "metadata": {
  "kernelspec": {
   "display_name": "Python 3 (ipykernel)",
   "language": "python",
   "name": "python3"
  },
  "language_info": {
   "codemirror_mode": {
    "name": "ipython",
    "version": 3
   },
   "file_extension": ".py",
   "mimetype": "text/x-python",
   "name": "python",
   "nbconvert_exporter": "python",
   "pygments_lexer": "ipython3",
   "version": "3.11.4"
  }
 },
 "nbformat": 4,
 "nbformat_minor": 5
}
