{
 "cells": [
  {
   "cell_type": "code",
   "execution_count": 1,
   "id": "53989635",
   "metadata": {},
   "outputs": [
    {
     "name": "stdout",
     "output_type": "stream",
     "text": [
      "Original Array: array('i', [10, 20, 30, 40, 50])\n",
      "Array after insertion: array('i', [10, 20, 25, 30, 40, 50])\n",
      "Array after deletion: array('i', [10, 20, 25, 30, 50])\n",
      "Element 30 found at index: 3\n",
      "Array after updating: array('i', [10, 15, 25, 30, 50])\n"
     ]
    }
   ],
   "source": [
    "# Importing the array module\n",
    "import array\n",
    "\n",
    "# 1. Create an array\n",
    "arr = array.array('i', [10, 20, 30, 40, 50])  # 'i' denotes integer type\n",
    "print(\"Original Array:\", arr)\n",
    "\n",
    "# 2. Insert an element\n",
    "arr.insert(2, 25)  # Insert 25 at index 2\n",
    "print(\"Array after insertion:\", arr)\n",
    "\n",
    "# 3. Delete an element\n",
    "arr.remove(40)  # Remove the element 40\n",
    "print(\"Array after deletion:\", arr)\n",
    "\n",
    "# 4. Search for an element\n",
    "search_element = 30\n",
    "index = arr.index(search_element)  # Find the index of 30\n",
    "print(f\"Element {search_element} found at index:\", index)\n",
    "\n",
    "# 5. Update an element\n",
    "arr[1] = 15  # Update the element at index 1\n",
    "print(\"Array after updating:\", arr)\n"
   ]
  },
  {
   "cell_type": "code",
   "execution_count": null,
   "id": "71265c64",
   "metadata": {},
   "outputs": [],
   "source": []
  }
 ],
 "metadata": {
  "kernelspec": {
   "display_name": "Python 3 (ipykernel)",
   "language": "python",
   "name": "python3"
  },
  "language_info": {
   "codemirror_mode": {
    "name": "ipython",
    "version": 3
   },
   "file_extension": ".py",
   "mimetype": "text/x-python",
   "name": "python",
   "nbconvert_exporter": "python",
   "pygments_lexer": "ipython3",
   "version": "3.11.4"
  }
 },
 "nbformat": 4,
 "nbformat_minor": 5
}
