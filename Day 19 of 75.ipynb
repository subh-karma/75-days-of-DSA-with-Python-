{
 "cells": [
  {
   "cell_type": "code",
   "execution_count": 1,
   "id": "a117bffb",
   "metadata": {},
   "outputs": [
    {
     "name": "stdout",
     "output_type": "stream",
     "text": [
      "Deposited 50. New balance: 150\n",
      "Withdrew 30. New balance: 120\n",
      "Current balance: 120\n",
      "\n",
      "--- Savings Account ---\n",
      "Current balance: 200\n",
      "Applied interest of 10.0. New balance: 210.0\n",
      "Current balance: 210.0\n"
     ]
    },
    {
     "data": {
      "text/plain": [
       "210.0"
      ]
     },
     "execution_count": 1,
     "metadata": {},
     "output_type": "execute_result"
    }
   ],
   "source": [
    "class BankAccount:\n",
    "    def __init__(self, account_holder, initial_balance=0):\n",
    "        self.account_holder = account_holder\n",
    "        self.balance = initial_balance\n",
    "\n",
    "    def deposit(self, amount):\n",
    "        if amount > 0:\n",
    "            self.balance += amount\n",
    "            print(f\"Deposited {amount}. New balance: {self.balance}\")\n",
    "        else:\n",
    "            print(\"Deposit amount must be positive.\")\n",
    "\n",
    "    def withdraw(self, amount):\n",
    "        if amount > self.balance:\n",
    "            print(\"Insufficient funds!\")\n",
    "        elif amount > 0:\n",
    "            self.balance -= amount\n",
    "            print(f\"Withdrew {amount}. New balance: {self.balance}\")\n",
    "        else:\n",
    "            print(\"Withdrawal amount must be positive.\")\n",
    "\n",
    "    def check_balance(self):\n",
    "        print(f\"Current balance: {self.balance}\")\n",
    "        return self.balance\n",
    "\n",
    "\n",
    "class SavingsAccount(BankAccount):\n",
    "    def __init__(self, account_holder, initial_balance=0, interest_rate=0.02):\n",
    "        super().__init__(account_holder, initial_balance)\n",
    "        self.interest_rate = interest_rate\n",
    "\n",
    "    def apply_interest(self):\n",
    "        interest = self.balance * self.interest_rate\n",
    "        self.balance += interest\n",
    "        print(f\"Applied interest of {interest}. New balance: {self.balance}\")\n",
    "\n",
    "\n",
    "# Testing the classes\n",
    "# Creating a BankAccount instance\n",
    "account1 = BankAccount(\"Alice\", 100)\n",
    "account1.deposit(50)\n",
    "account1.withdraw(30)\n",
    "account1.check_balance()\n",
    "\n",
    "print(\"\\n--- Savings Account ---\")\n",
    "# Creating a SavingsAccount instance\n",
    "savings = SavingsAccount(\"Bob\", 200, interest_rate=0.05)\n",
    "savings.check_balance()\n",
    "savings.apply_interest()\n",
    "savings.check_balance()\n",
    "\n"
   ]
  },
  {
   "cell_type": "code",
   "execution_count": null,
   "id": "26eb4ee0",
   "metadata": {},
   "outputs": [],
   "source": []
  }
 ],
 "metadata": {
  "kernelspec": {
   "display_name": "Python 3 (ipykernel)",
   "language": "python",
   "name": "python3"
  },
  "language_info": {
   "codemirror_mode": {
    "name": "ipython",
    "version": 3
   },
   "file_extension": ".py",
   "mimetype": "text/x-python",
   "name": "python",
   "nbconvert_exporter": "python",
   "pygments_lexer": "ipython3",
   "version": "3.11.4"
  }
 },
 "nbformat": 4,
 "nbformat_minor": 5
}
