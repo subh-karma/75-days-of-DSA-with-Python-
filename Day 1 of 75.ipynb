{
 "cells": [
  {
   "cell_type": "markdown",
   "id": "b28eaa82",
   "metadata": {},
   "source": [
    "Problem: Find the Largest Element in an Array\n",
    "Problem Statement:\n",
    "You are given an array of integers. Your task is to find and return the largest element in the array.\n",
    "\n",
    "Example:\n",
    "Input: arr = [1, 3, 5, 2, 9, 7]\n",
    "Output: 9"
   ]
  },
  {
   "cell_type": "code",
   "execution_count": 16,
   "id": "dd2a4c1e",
   "metadata": {},
   "outputs": [
    {
     "name": "stdout",
     "output_type": "stream",
     "text": [
      "9\n"
     ]
    }
   ],
   "source": [
    "arr=[1, 3, 5, 2, 9, 7]\n",
    "arr.sort()\n",
    "print(arr[-1])"
   ]
  },
  {
   "cell_type": "code",
   "execution_count": 24,
   "id": "30ac92ce",
   "metadata": {},
   "outputs": [],
   "source": [
    "def large_number(arr):\n",
    "    if len(arr)==0:\n",
    "        return None #in case array is empty \n",
    "    largest=arr[0]\n",
    "    for i in arr:\n",
    "        if i>largest:\n",
    "            largest=i\n",
    "    return largest\n",
    "    \n",
    "    "
   ]
  },
  {
   "cell_type": "code",
   "execution_count": 25,
   "id": "8af41321",
   "metadata": {},
   "outputs": [
    {
     "data": {
      "text/plain": [
       "9"
      ]
     },
     "execution_count": 25,
     "metadata": {},
     "output_type": "execute_result"
    }
   ],
   "source": [
    "arr=[1, 3, 5, 2, 9, 7]\n",
    "large_number(arr)"
   ]
  },
  {
   "cell_type": "code",
   "execution_count": null,
   "id": "9ac325fa",
   "metadata": {},
   "outputs": [],
   "source": []
  }
 ],
 "metadata": {
  "kernelspec": {
   "display_name": "Python 3 (ipykernel)",
   "language": "python",
   "name": "python3"
  },
  "language_info": {
   "codemirror_mode": {
    "name": "ipython",
    "version": 3
   },
   "file_extension": ".py",
   "mimetype": "text/x-python",
   "name": "python",
   "nbconvert_exporter": "python",
   "pygments_lexer": "ipython3",
   "version": "3.11.4"
  }
 },
 "nbformat": 4,
 "nbformat_minor": 5
}
