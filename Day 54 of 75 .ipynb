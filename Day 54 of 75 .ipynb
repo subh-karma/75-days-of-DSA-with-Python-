{
 "cells": [
  {
   "cell_type": "code",
   "execution_count": 1,
   "id": "2a5dd296",
   "metadata": {},
   "outputs": [
    {
     "name": "stdout",
     "output_type": "stream",
     "text": [
      "Pushed: 10\n",
      "Pushed: 20\n",
      "Pushed: 30\n",
      "Top element: 30\n",
      "Popped element: 30\n",
      "Stack contents: [10, 20]\n"
     ]
    }
   ],
   "source": [
    "class Stack:\n",
    "    def __init__(self):\n",
    "        self.stack = []\n",
    "    \n",
    "    # Push an element onto the stack\n",
    "    def push(self, item):\n",
    "        self.stack.append(item)\n",
    "        print(f\"Pushed: {item}\")\n",
    "    \n",
    "    # Pop an element from the stack\n",
    "    def pop(self):\n",
    "        if self.is_empty():\n",
    "            return \"Stack is empty\"\n",
    "        return self.stack.pop()\n",
    "    \n",
    "    # Peek at the top element of the stack\n",
    "    def peek(self):\n",
    "        if self.is_empty():\n",
    "            return \"Stack is empty\"\n",
    "        return self.stack[-1]\n",
    "    \n",
    "    # Check if the stack is empty\n",
    "    def is_empty(self):\n",
    "        return len(self.stack) == 0\n",
    "    \n",
    "    # Display the stack\n",
    "    def display(self):\n",
    "        print(\"Stack contents:\", self.stack)\n",
    "\n",
    "\n",
    "# Example Usage\n",
    "stack = Stack()\n",
    "stack.push(10)\n",
    "stack.push(20)\n",
    "stack.push(30)\n",
    "print(\"Top element:\", stack.peek())\n",
    "print(\"Popped element:\", stack.pop())\n",
    "stack.display()\n"
   ]
  },
  {
   "cell_type": "code",
   "execution_count": null,
   "id": "ac8503fa",
   "metadata": {},
   "outputs": [],
   "source": []
  }
 ],
 "metadata": {
  "kernelspec": {
   "display_name": "Python 3 (ipykernel)",
   "language": "python",
   "name": "python3"
  },
  "language_info": {
   "codemirror_mode": {
    "name": "ipython",
    "version": 3
   },
   "file_extension": ".py",
   "mimetype": "text/x-python",
   "name": "python",
   "nbconvert_exporter": "python",
   "pygments_lexer": "ipython3",
   "version": "3.11.4"
  }
 },
 "nbformat": 4,
 "nbformat_minor": 5
}
