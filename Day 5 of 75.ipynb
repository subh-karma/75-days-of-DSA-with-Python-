{
 "cells": [
  {
   "cell_type": "markdown",
   "id": "5744a8be",
   "metadata": {},
   "source": [
    "# Write a Python function that takes an integer array and returns the second largest number. \n",
    "For example, given [2, 3, 6, 6, 5], the second largest is 5."
   ]
  },
  {
   "cell_type": "code",
   "execution_count": 10,
   "id": "d673f2df",
   "metadata": {},
   "outputs": [],
   "source": [
    "arr=[2, 3, 6, 6, 5]\n",
    "def sec_LarNum(arr):\n",
    "    unique_arr = list(set(arr))  # Remove duplicates by converting to a set\n",
    "    unique_arr.sort()\n",
    "    return unique_arr[-2]"
   ]
  },
  {
   "cell_type": "code",
   "execution_count": 11,
   "id": "31bf9a9d",
   "metadata": {},
   "outputs": [
    {
     "data": {
      "text/plain": [
       "5"
      ]
     },
     "execution_count": 11,
     "metadata": {},
     "output_type": "execute_result"
    }
   ],
   "source": [
    "sec_LarNum(arr)"
   ]
  },
  {
   "cell_type": "code",
   "execution_count": null,
   "id": "a3c46f31",
   "metadata": {},
   "outputs": [],
   "source": []
  }
 ],
 "metadata": {
  "kernelspec": {
   "display_name": "Python 3 (ipykernel)",
   "language": "python",
   "name": "python3"
  },
  "language_info": {
   "codemirror_mode": {
    "name": "ipython",
    "version": 3
   },
   "file_extension": ".py",
   "mimetype": "text/x-python",
   "name": "python",
   "nbconvert_exporter": "python",
   "pygments_lexer": "ipython3",
   "version": "3.11.4"
  }
 },
 "nbformat": 4,
 "nbformat_minor": 5
}
