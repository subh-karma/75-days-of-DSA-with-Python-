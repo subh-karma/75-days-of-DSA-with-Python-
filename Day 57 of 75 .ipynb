{
 "cells": [
  {
   "cell_type": "code",
   "execution_count": 1,
   "id": "ffcca9f7",
   "metadata": {},
   "outputs": [
    {
     "name": "stdout",
     "output_type": "stream",
     "text": [
      "Number of solutions: 2\n",
      "..Q.\n",
      "Q...\n",
      "...Q\n",
      ".Q..\n",
      "\n",
      ".Q..\n",
      "...Q\n",
      "Q...\n",
      "..Q.\n",
      "\n"
     ]
    }
   ],
   "source": [
    "def solve_n_queens(n):\n",
    "    def is_safe(board, row, col):\n",
    "        # Check if a queen can be placed at board[row][col]\n",
    "        for i in range(col):\n",
    "            if board[row][i] == 'Q':  # Check left\n",
    "                return False\n",
    "        for i, j in zip(range(row, -1, -1), range(col, -1, -1)):\n",
    "            if board[i][j] == 'Q':  # Check upper diagonal\n",
    "                return False\n",
    "        for i, j in zip(range(row, n), range(col, -1, -1)):\n",
    "            if board[i][j] == 'Q':  # Check lower diagonal\n",
    "                return False\n",
    "        return True\n",
    "\n",
    "    def solve(board, col):\n",
    "        # Base case: All queens are placed\n",
    "        if col >= n:\n",
    "            result.append([''.join(row) for row in board])\n",
    "            return\n",
    "        \n",
    "        # Try placing queen in all rows one by one\n",
    "        for i in range(n):\n",
    "            if is_safe(board, i, col):\n",
    "                board[i][col] = 'Q'  # Place queen\n",
    "                solve(board, col + 1)  # Recur for next column\n",
    "                board[i][col] = '.'  # Backtrack\n",
    "    \n",
    "    # Initialize variables\n",
    "    result = []\n",
    "    board = [['.' for _ in range(n)] for _ in range(n)]\n",
    "    solve(board, 0)\n",
    "    return result\n",
    "\n",
    "# Test the function for N = 4\n",
    "solutions = solve_n_queens(4)\n",
    "print(f\"Number of solutions: {len(solutions)}\")\n",
    "for solution in solutions:\n",
    "    for row in solution:\n",
    "        print(row)\n",
    "    print()\n"
   ]
  },
  {
   "cell_type": "code",
   "execution_count": null,
   "id": "e694683f",
   "metadata": {},
   "outputs": [],
   "source": []
  }
 ],
 "metadata": {
  "kernelspec": {
   "display_name": "Python 3 (ipykernel)",
   "language": "python",
   "name": "python3"
  },
  "language_info": {
   "codemirror_mode": {
    "name": "ipython",
    "version": 3
   },
   "file_extension": ".py",
   "mimetype": "text/x-python",
   "name": "python",
   "nbconvert_exporter": "python",
   "pygments_lexer": "ipython3",
   "version": "3.11.4"
  }
 },
 "nbformat": 4,
 "nbformat_minor": 5
}
