{
 "cells": [
  {
   "cell_type": "code",
   "execution_count": 2,
   "id": "892e63c0",
   "metadata": {},
   "outputs": [
    {
     "name": "stdout",
     "output_type": "stream",
     "text": [
      "8\n"
     ]
    }
   ],
   "source": [
    "def missing_number(nums):\n",
    "    n = len(nums)\n",
    "    xor_all = 0\n",
    "    xor_array = 0\n",
    "\n",
    "    # XOR all numbers from 0 to n\n",
    "    for i in range(n + 1):\n",
    "        xor_all ^= i\n",
    "\n",
    "    # XOR all numbers in the array\n",
    "    for num in nums:\n",
    "        xor_array ^= num\n",
    "\n",
    "    # The missing number is the XOR of these two\n",
    "    return xor_all ^ xor_array\n",
    "\n",
    "# Test\n",
    "nums = [9, 6, 4, 2, 3, 5, 7, 0, 1]\n",
    "print(missing_number(nums))  # Output: 8\n"
   ]
  },
  {
   "cell_type": "code",
   "execution_count": null,
   "id": "4f7aaaa9",
   "metadata": {},
   "outputs": [],
   "source": []
  }
 ],
 "metadata": {
  "kernelspec": {
   "display_name": "Python 3 (ipykernel)",
   "language": "python",
   "name": "python3"
  },
  "language_info": {
   "codemirror_mode": {
    "name": "ipython",
    "version": 3
   },
   "file_extension": ".py",
   "mimetype": "text/x-python",
   "name": "python",
   "nbconvert_exporter": "python",
   "pygments_lexer": "ipython3",
   "version": "3.11.4"
  }
 },
 "nbformat": 4,
 "nbformat_minor": 5
}
