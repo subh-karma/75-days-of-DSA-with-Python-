{
 "cells": [
  {
   "cell_type": "markdown",
   "id": "a19edb1f",
   "metadata": {},
   "source": [
    "# Question: Find the Missing Number\n"
   ]
  },
  {
   "cell_type": "raw",
   "id": "3705a3f5",
   "metadata": {},
   "source": [
    "Given an array of size n-1 containing distinct integers between 1 and n, find the missing number in the array"
   ]
  },
  {
   "cell_type": "code",
   "execution_count": 14,
   "id": "442e855a",
   "metadata": {},
   "outputs": [
    {
     "name": "stdout",
     "output_type": "stream",
     "text": [
      "The missing number is: 4\n"
     ]
    }
   ],
   "source": [
    "arr = [1, 2, 3, 5]  # Example array\n",
    "n = len(arr) + 1  # Size of full array, which includes the missing number\n",
    "\n",
    "# Calculate the sum of the first n natural numbers\n",
    "expected_sum = n * (n + 1) // 2\n",
    "\n",
    "# Calculate the actual sum of the array\n",
    "actual_sum = sum(arr)\n",
    "\n",
    "# The missing number is the difference between the expected and actual sums\n",
    "missing_number = expected_sum - actual_sum\n",
    "\n",
    "print(f\"The missing number is: {missing_number}\")\n"
   ]
  },
  {
   "cell_type": "code",
   "execution_count": 13,
   "id": "44f43e08",
   "metadata": {},
   "outputs": [
    {
     "name": "stdout",
     "output_type": "stream",
     "text": [
      "[1]\n",
      "[1, 2]\n",
      "[1, 2, 3]\n",
      "[1, 2, 3, 4]\n"
     ]
    }
   ],
   "source": [
    "arr=[1,2,3,5]\n",
    "n=arr[-1]\n",
    "o=arr[0]\n",
    "l=[]\n",
    "for i in range(o,n):\n",
    "    if i!=arr:\n",
    "        l.append(i)\n",
    "        print(l)"
   ]
  },
  {
   "cell_type": "code",
   "execution_count": 11,
   "id": "ae85e6d8",
   "metadata": {},
   "outputs": [
    {
     "name": "stdout",
     "output_type": "stream",
     "text": [
      "1\n"
     ]
    }
   ],
   "source": [
    "print(o)"
   ]
  }
 ],
 "metadata": {
  "kernelspec": {
   "display_name": "Python 3 (ipykernel)",
   "language": "python",
   "name": "python3"
  },
  "language_info": {
   "codemirror_mode": {
    "name": "ipython",
    "version": 3
   },
   "file_extension": ".py",
   "mimetype": "text/x-python",
   "name": "python",
   "nbconvert_exporter": "python",
   "pygments_lexer": "ipython3",
   "version": "3.11.4"
  }
 },
 "nbformat": 4,
 "nbformat_minor": 5
}
