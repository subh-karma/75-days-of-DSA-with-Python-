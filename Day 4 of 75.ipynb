{
 "cells": [
  {
   "cell_type": "markdown",
   "id": "54274072",
   "metadata": {},
   "source": [
    "# Problem: Bubble Sort Implementation\n",
    "Question: You are given an array of integers. Your task is to implement the Bubble Sort algorithm to sort the array in ascending order and print the sorted array.\n",
    "\n",
    "Input:\n",
    "\n",
    "An integer n, representing the number of elements in the array.\n",
    "An array arr of n integers.\n",
    "Output:\n",
    "\n",
    "Print the sorted array."
   ]
  },
  {
   "cell_type": "markdown",
   "id": "30fd48ec",
   "metadata": {},
   "source": [
    "Input:\n",
    "5\n",
    "64 34 25 12 22\n",
    "\n",
    "Output:\n",
    "12 22 25 34 64\n"
   ]
  },
  {
   "cell_type": "code",
   "execution_count": 1,
   "id": "daf766d9",
   "metadata": {},
   "outputs": [
    {
     "name": "stdout",
     "output_type": "stream",
     "text": [
      "Original array: [64, 34, 25, 12, 22]\n",
      "Sorted array: [12, 22, 25, 34, 64]\n"
     ]
    }
   ],
   "source": [
    "def bubble_sort(arr):\n",
    "    n = len(arr)\n",
    "    \n",
    "    # Traverse through all array elements\n",
    "    for i in range(n):\n",
    "        # Track if any swapping happened\n",
    "        swapped = False\n",
    "        \n",
    "        # Last i elements are already in place\n",
    "        for j in range(0, n-i-1):\n",
    "            \n",
    "            # Traverse the array from 0 to n-i-1\n",
    "            # Swap if the element found is greater than the next element\n",
    "            if arr[j] > arr[j+1]:\n",
    "                arr[j], arr[j+1] = arr[j+1], arr[j]\n",
    "                swapped = True\n",
    "        \n",
    "        # If no elements were swapped in the inner loop, the array is already sorted\n",
    "        if not swapped:\n",
    "            break\n",
    "\n",
    "# Example usage\n",
    "arr = [64, 34, 25, 12, 22]\n",
    "print(\"Original array:\", arr)\n",
    "\n",
    "bubble_sort(arr)\n",
    "print(\"Sorted array:\", arr)\n"
   ]
  },
  {
   "cell_type": "code",
   "execution_count": null,
   "id": "5c77dfb6",
   "metadata": {},
   "outputs": [],
   "source": []
  }
 ],
 "metadata": {
  "kernelspec": {
   "display_name": "Python 3 (ipykernel)",
   "language": "python",
   "name": "python3"
  },
  "language_info": {
   "codemirror_mode": {
    "name": "ipython",
    "version": 3
   },
   "file_extension": ".py",
   "mimetype": "text/x-python",
   "name": "python",
   "nbconvert_exporter": "python",
   "pygments_lexer": "ipython3",
   "version": "3.11.4"
  }
 },
 "nbformat": 4,
 "nbformat_minor": 5
}
