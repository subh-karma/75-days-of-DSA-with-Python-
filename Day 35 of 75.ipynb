{
 "cells": [
  {
   "cell_type": "code",
   "execution_count": 1,
   "id": "247f4fe6",
   "metadata": {},
   "outputs": [
    {
     "name": "stdout",
     "output_type": "stream",
     "text": [
      "3 -> 5 -> 13 -> 2 -> null\n"
     ]
    }
   ],
   "source": [
    "class Node:\n",
    "    def __init__(self, data):\n",
    "        self.data = data\n",
    "        self.next = None\n",
    "    \n",
    "node1 = Node(3)\n",
    "node2 = Node(5)\n",
    "node3 = Node(13)\n",
    "node4 = Node(2)\n",
    "\n",
    "node1.next = node2\n",
    "node2.next = node3\n",
    "node3.next = node4\n",
    "\n",
    "currentNode = node1\n",
    "while currentNode:\n",
    "    print(currentNode.data, end=\" -> \")\n",
    "    currentNode = currentNode.next\n",
    "print(\"null\")"
   ]
  },
  {
   "cell_type": "code",
   "execution_count": null,
   "id": "aeb2eaed",
   "metadata": {},
   "outputs": [],
   "source": []
  }
 ],
 "metadata": {
  "kernelspec": {
   "display_name": "Python 3 (ipykernel)",
   "language": "python",
   "name": "python3"
  },
  "language_info": {
   "codemirror_mode": {
    "name": "ipython",
    "version": 3
   },
   "file_extension": ".py",
   "mimetype": "text/x-python",
   "name": "python",
   "nbconvert_exporter": "python",
   "pygments_lexer": "ipython3",
   "version": "3.11.4"
  }
 },
 "nbformat": 4,
 "nbformat_minor": 5
}
