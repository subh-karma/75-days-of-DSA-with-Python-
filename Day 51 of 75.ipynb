{
 "cells": [
  {
   "cell_type": "code",
   "execution_count": 16,
   "id": "2d63d07b",
   "metadata": {},
   "outputs": [
    {
     "ename": "SyntaxError",
     "evalue": "invalid syntax (2695634848.py, line 9)",
     "output_type": "error",
     "traceback": [
      "\u001b[1;36m  Cell \u001b[1;32mIn[16], line 9\u001b[1;36m\u001b[0m\n\u001b[1;33m    elif i > m2 and i != m1:\u001b[0m\n\u001b[1;37m    ^\u001b[0m\n\u001b[1;31mSyntaxError\u001b[0m\u001b[1;31m:\u001b[0m invalid syntax\n"
     ]
    }
   ],
   "source": [
    "def third_max(arr):\n",
    "    m1= m2=m3 = float('-inf')\n",
    "    \n",
    "    for i in arr:\n",
    "        if i > m1:\n",
    "            m3=m2\n",
    "            m2=m1\n",
    "            m1=i\n",
    "    elif i > m2 and i != m1:                \n",
    "        m3 = m2  \n",
    "        m2 = i   \n",
    "    elif i > m3 and i != m1 and i != m2:  \n",
    "    return idd\n",
    "    \n",
    "    \n",
    "\n"
   ]
  },
  {
   "cell_type": "code",
   "execution_count": 14,
   "id": "10aba800",
   "metadata": {},
   "outputs": [],
   "source": [
    "def max2(arr):    \n",
    "    for i in arr:\n",
    "            if i > m1:  \n",
    "                m3 = m2\n",
    "                m2 = m1  \n",
    "                m1 = i   \n",
    "            elif i > m2 and i != m1:  \n",
    "                m3 = m2  \n",
    "                m2 = i   \n",
    "            elif i > m3 and i != m1 and i != m2:  \n",
    "                m3 = i  \n"
   ]
  },
  {
   "cell_type": "code",
   "execution_count": null,
   "id": "cc2326d4",
   "metadata": {},
   "outputs": [],
   "source": []
  }
 ],
 "metadata": {
  "kernelspec": {
   "display_name": "Python 3 (ipykernel)",
   "language": "python",
   "name": "python3"
  },
  "language_info": {
   "codemirror_mode": {
    "name": "ipython",
    "version": 3
   },
   "file_extension": ".py",
   "mimetype": "text/x-python",
   "name": "python",
   "nbconvert_exporter": "python",
   "pygments_lexer": "ipython3",
   "version": "3.11.4"
  }
 },
 "nbformat": 4,
 "nbformat_minor": 5
}
