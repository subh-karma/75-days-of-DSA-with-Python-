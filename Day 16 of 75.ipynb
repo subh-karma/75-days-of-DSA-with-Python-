{
 "cells": [
  {
   "cell_type": "code",
   "execution_count": 1,
   "id": "ba3a816e",
   "metadata": {},
   "outputs": [],
   "source": [
    "class ListNode:\n",
    "    def __init__(self, val=0, next=None):\n",
    "        self.val = val\n",
    "        self.next = next\n",
    "\n",
    "def reverseBetween(head: ListNode, m: int, n: int) -> ListNode:\n",
    "    if not head or m == n:\n",
    "        return head\n",
    "\n",
    "    # Step 1: Reach the node at position `m - 1`\n",
    "    dummy = ListNode(0)\n",
    "    dummy.next = head\n",
    "    prev = dummy\n",
    "    for _ in range(m - 1):\n",
    "        prev = prev.next\n",
    "\n",
    "    # Step 2: Reverse the section from `m` to `n`\n",
    "    current = prev.next\n",
    "    next_node = None\n",
    "    for _ in range(n - m):\n",
    "        temp = current.next\n",
    "        current.next = temp.next\n",
    "        temp.next = prev.next\n",
    "        prev.next = temp\n",
    "\n",
    "    return dummy.next\n"
   ]
  },
  {
   "cell_type": "code",
   "execution_count": null,
   "id": "e45f4776",
   "metadata": {},
   "outputs": [],
   "source": []
  }
 ],
 "metadata": {
  "kernelspec": {
   "display_name": "Python 3 (ipykernel)",
   "language": "python",
   "name": "python3"
  },
  "language_info": {
   "codemirror_mode": {
    "name": "ipython",
    "version": 3
   },
   "file_extension": ".py",
   "mimetype": "text/x-python",
   "name": "python",
   "nbconvert_exporter": "python",
   "pygments_lexer": "ipython3",
   "version": "3.11.4"
  }
 },
 "nbformat": 4,
 "nbformat_minor": 5
}
