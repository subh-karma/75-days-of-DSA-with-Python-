{
 "cells": [
  {
   "cell_type": "markdown",
   "id": "4bb50f76",
   "metadata": {},
   "source": [
    "# Problem\n",
    "You have a sorted list of numbers, and you want to find the index of a specific target number in that list. If the target is not found, return -1."
   ]
  },
  {
   "cell_type": "raw",
   "id": "ebb55e5a",
   "metadata": {},
   "source": [
    "Example\n",
    "Input: arr = [1, 3, 5, 7, 9, 11], target = 7\n",
    "Output: 3 (since 7 is at index 3)"
   ]
  },
  {
   "cell_type": "code",
   "execution_count": 1,
   "id": "63597658",
   "metadata": {},
   "outputs": [
    {
     "name": "stdout",
     "output_type": "stream",
     "text": [
      "Target found at index: 3\n"
     ]
    }
   ],
   "source": [
    "def binary_search(arr, target):\n",
    "    left, right = 0, len(arr) - 1\n",
    "    \n",
    "    while left <= right:\n",
    "        mid = (left + right) // 2  # Find the middle element\n",
    "        \n",
    "        # Check if the middle element is the target\n",
    "        if arr[mid] == target:\n",
    "            return mid\n",
    "        \n",
    "        # If the target is greater, ignore the left half\n",
    "        elif arr[mid] < target:\n",
    "            left = mid + 1\n",
    "            \n",
    "        # If the target is smaller, ignore the right half\n",
    "        else:\n",
    "            right = mid - 1\n",
    "    \n",
    "    # Target not found\n",
    "    return -1\n",
    "\n",
    "# Test the function\n",
    "arr = [1, 3, 5, 7, 9, 11]\n",
    "target = 7\n",
    "result = binary_search(arr, target)\n",
    "print(\"Target found at index:\", result)\n"
   ]
  },
  {
   "cell_type": "code",
   "execution_count": null,
   "id": "2a0c76b1",
   "metadata": {},
   "outputs": [],
   "source": []
  }
 ],
 "metadata": {
  "kernelspec": {
   "display_name": "Python 3 (ipykernel)",
   "language": "python",
   "name": "python3"
  },
  "language_info": {
   "codemirror_mode": {
    "name": "ipython",
    "version": 3
   },
   "file_extension": ".py",
   "mimetype": "text/x-python",
   "name": "python",
   "nbconvert_exporter": "python",
   "pygments_lexer": "ipython3",
   "version": "3.11.4"
  }
 },
 "nbformat": 4,
 "nbformat_minor": 5
}
