{
 "cells": [
  {
   "cell_type": "markdown",
   "id": "999531ab",
   "metadata": {},
   "source": [
    "# Problem: Find the Maximum Element in an Array\n",
    "Given an array of integers, your task is to find the maximum element in the array.\n",
    "\n",
    "Example:\n",
    "Input: arr = [3, 5, 7, 2, 8, -1, 4, 10, 12]\n",
    "Output: 12"
   ]
  },
  {
   "cell_type": "code",
   "execution_count": 7,
   "id": "e8bd1131",
   "metadata": {},
   "outputs": [],
   "source": [
    "def max_ele(arr):\n",
    "    maxx=arr[0]\n",
    "    for i in arr:\n",
    "        if i > maxx:\n",
    "            \n",
    "            maxx==i\n",
    "    return i"
   ]
  },
  {
   "cell_type": "code",
   "execution_count": 8,
   "id": "85d3cba6",
   "metadata": {},
   "outputs": [
    {
     "data": {
      "text/plain": [
       "12"
      ]
     },
     "execution_count": 8,
     "metadata": {},
     "output_type": "execute_result"
    }
   ],
   "source": [
    "arr = [3, 5, 7, 2, 8, -1, 4, 10, 12]\n",
    "max_ele(arr)"
   ]
  },
  {
   "cell_type": "code",
   "execution_count": 1,
   "id": "271c5dca",
   "metadata": {},
   "outputs": [
    {
     "data": {
      "text/plain": [
       "12"
      ]
     },
     "execution_count": 1,
     "metadata": {},
     "output_type": "execute_result"
    }
   ],
   "source": [
    "arr = [3, 5, 7, 2, 8, -1, 4, 10, 12]\n",
    "arr.sort()\n",
    "arr[-1]"
   ]
  },
  {
   "cell_type": "code",
   "execution_count": null,
   "id": "6d85b358",
   "metadata": {},
   "outputs": [],
   "source": []
  }
 ],
 "metadata": {
  "kernelspec": {
   "display_name": "Python 3 (ipykernel)",
   "language": "python",
   "name": "python3"
  },
  "language_info": {
   "codemirror_mode": {
    "name": "ipython",
    "version": 3
   },
   "file_extension": ".py",
   "mimetype": "text/x-python",
   "name": "python",
   "nbconvert_exporter": "python",
   "pygments_lexer": "ipython3",
   "version": "3.11.4"
  }
 },
 "nbformat": 4,
 "nbformat_minor": 5
}
