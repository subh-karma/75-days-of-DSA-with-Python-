{
 "cells": [
  {
   "cell_type": "markdown",
   "id": "5fe6e391",
   "metadata": {},
   "source": [
    "# Problem: Reverse Words in a Sentence\n",
    "Description:\n",
    "Given a string s, reverse the order of words. Each word is separated by a single space, and there are no leading or trailing spaces."
   ]
  },
  {
   "cell_type": "code",
   "execution_count": 4,
   "id": "0d21dd2c",
   "metadata": {},
   "outputs": [],
   "source": [
    "def reverse_words(sentence):\n",
    "    # Step 1: Split the sentence into words\n",
    "    words = sentence.split()\n",
    "    \n",
    "    # Step 2: Reverse the list of words\n",
    "    reversed_words = words[::-1]\n",
    "    \n",
    "    # Step 3: Join the words back into a sentence\n",
    "    reversed_sentence = \" \".join(reversed_words)\n",
    "    \n",
    "    return reversed_sentence\n",
    "\n",
    "#\n"
   ]
  },
  {
   "cell_type": "code",
   "execution_count": 5,
   "id": "dfdbad2a",
   "metadata": {},
   "outputs": [
    {
     "name": "stdout",
     "output_type": "stream",
     "text": [
      "world hello\n"
     ]
    }
   ],
   "source": [
    "# Example usage\n",
    "sentence = \"hello world\"\n",
    "print(reverse_words(sentence))  # Output: \"world hello\""
   ]
  },
  {
   "cell_type": "code",
   "execution_count": null,
   "id": "d3a51803",
   "metadata": {},
   "outputs": [],
   "source": []
  }
 ],
 "metadata": {
  "kernelspec": {
   "display_name": "Python 3 (ipykernel)",
   "language": "python",
   "name": "python3"
  },
  "language_info": {
   "codemirror_mode": {
    "name": "ipython",
    "version": 3
   },
   "file_extension": ".py",
   "mimetype": "text/x-python",
   "name": "python",
   "nbconvert_exporter": "python",
   "pygments_lexer": "ipython3",
   "version": "3.11.4"
  }
 },
 "nbformat": 4,
 "nbformat_minor": 5
}
