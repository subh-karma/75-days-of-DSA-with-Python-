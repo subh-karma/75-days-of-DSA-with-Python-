{
 "cells": [
  {
   "cell_type": "code",
   "execution_count": 1,
   "id": "952fe176",
   "metadata": {},
   "outputs": [
    {
     "name": "stdout",
     "output_type": "stream",
     "text": [
      "Element found at index 3.\n"
     ]
    }
   ],
   "source": [
    "def binary_search(arr, target):\n",
    "    \"\"\"\n",
    "    Perform binary search on a sorted array to find the index of the target element.\n",
    "\n",
    "    :param arr: List[int] - The sorted array of integers.\n",
    "    :param target: int - The target element to search for.\n",
    "    :return: int - The index of the target element if found; otherwise, -1.\n",
    "    \"\"\"\n",
    "    left, right = 0, len(arr) - 1\n",
    "\n",
    "    while left <= right:\n",
    "        mid = left + (right - left) // 2  # Calculate the mid index to avoid overflow.\n",
    "\n",
    "        if arr[mid] == target:\n",
    "            return mid  # Target found at the mid index.\n",
    "        elif arr[mid] < target:\n",
    "            left = mid + 1  # Narrow the search to the right half.\n",
    "        else:\n",
    "            right = mid - 1  # Narrow the search to the left half.\n",
    "\n",
    "    return -1  # Target not found in the array.\n",
    "\n",
    "\n",
    "# Example usage:\n",
    "array = [2, 3, 4, 10, 40]\n",
    "target = 10\n",
    "result = binary_search(array, target)\n",
    "\n",
    "if result != -1:\n",
    "    print(f\"Element found at index {result}.\")\n",
    "else:\n",
    "    print(\"Element not found in the array.\")\n"
   ]
  },
  {
   "cell_type": "code",
   "execution_count": null,
   "id": "91ac9888",
   "metadata": {},
   "outputs": [],
   "source": []
  }
 ],
 "metadata": {
  "kernelspec": {
   "display_name": "Python 3 (ipykernel)",
   "language": "python",
   "name": "python3"
  },
  "language_info": {
   "codemirror_mode": {
    "name": "ipython",
    "version": 3
   },
   "file_extension": ".py",
   "mimetype": "text/x-python",
   "name": "python",
   "nbconvert_exporter": "python",
   "pygments_lexer": "ipython3",
   "version": "3.11.4"
  }
 },
 "nbformat": 4,
 "nbformat_minor": 5
}
