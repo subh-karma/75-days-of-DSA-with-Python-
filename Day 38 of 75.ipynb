{
 "cells": [
  {
   "cell_type": "code",
   "execution_count": 1,
   "id": "42c2c316",
   "metadata": {},
   "outputs": [
    {
     "name": "stdout",
     "output_type": "stream",
     "text": [
      "The length of the longest substring without repeating characters is: 3\n"
     ]
    }
   ],
   "source": [
    "def length_of_longest_substring(s: str) -> int:\n",
    "    char_set = set()  # to keep track of characters in the current window\n",
    "    left = 0\n",
    "    max_length = 0\n",
    "    \n",
    "    # Use a sliding window to iterate through the string\n",
    "    for right in range(len(s)):\n",
    "        # If the character is already in the set, shrink the window\n",
    "        while s[right] in char_set:\n",
    "            char_set.remove(s[left])\n",
    "            left += 1\n",
    "        \n",
    "        # Add the current character to the set\n",
    "        char_set.add(s[right])\n",
    "        \n",
    "        # Update the maximum length found\n",
    "        max_length = max(max_length, right - left + 1)\n",
    "    \n",
    "    return max_length\n",
    "\n",
    "# Test the function\n",
    "input_string = \"abcabcbb\"\n",
    "result = length_of_longest_substring(input_string)\n",
    "print(f\"The length of the longest substring without repeating characters is: {result}\")\n"
   ]
  },
  {
   "cell_type": "code",
   "execution_count": null,
   "id": "71f02b97",
   "metadata": {},
   "outputs": [],
   "source": []
  }
 ],
 "metadata": {
  "kernelspec": {
   "display_name": "Python 3 (ipykernel)",
   "language": "python",
   "name": "python3"
  },
  "language_info": {
   "codemirror_mode": {
    "name": "ipython",
    "version": 3
   },
   "file_extension": ".py",
   "mimetype": "text/x-python",
   "name": "python",
   "nbconvert_exporter": "python",
   "pygments_lexer": "ipython3",
   "version": "3.11.4"
  }
 },
 "nbformat": 4,
 "nbformat_minor": 5
}
