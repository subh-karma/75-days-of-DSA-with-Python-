{
 "cells": [
  {
   "cell_type": "code",
   "execution_count": 1,
   "id": "c2596184",
   "metadata": {},
   "outputs": [
    {
     "name": "stdout",
     "output_type": "stream",
     "text": [
      "True\n",
      "False\n"
     ]
    }
   ],
   "source": [
    "def isValid(s: str) -> bool:\n",
    "    # Stack to keep track of opening brackets\n",
    "    stack = []\n",
    "    \n",
    "    # Mapping of closing to opening brackets\n",
    "    mapping = {')': '(', '}': '{', ']': '['}\n",
    "    \n",
    "    # Iterate through each character in the string\n",
    "    for char in s:\n",
    "        if char in mapping:  # If it's a closing bracket\n",
    "            # Pop the top element from the stack if it's not empty, else use a dummy value\n",
    "            top_element = stack.pop() if stack else '#'\n",
    "            \n",
    "            # Check if the popped element matches the corresponding opening bracket\n",
    "            if mapping[char] != top_element:\n",
    "                return False\n",
    "        else:\n",
    "            # It's an opening bracket, push it onto the stack\n",
    "            stack.append(char)\n",
    "    \n",
    "    # The stack should be empty if the string is valid\n",
    "    return not stack\n",
    "\n",
    "# Example Usage\n",
    "s = \"()[]{}\"\n",
    "print(isValid(s))  # Output: True\n",
    "\n",
    "s = \"(]\"\n",
    "print(isValid(s))  # Output: False\n"
   ]
  },
  {
   "cell_type": "code",
   "execution_count": null,
   "id": "7d37c9ec",
   "metadata": {},
   "outputs": [],
   "source": []
  }
 ],
 "metadata": {
  "kernelspec": {
   "display_name": "Python 3 (ipykernel)",
   "language": "python",
   "name": "python3"
  },
  "language_info": {
   "codemirror_mode": {
    "name": "ipython",
    "version": 3
   },
   "file_extension": ".py",
   "mimetype": "text/x-python",
   "name": "python",
   "nbconvert_exporter": "python",
   "pygments_lexer": "ipython3",
   "version": "3.11.4"
  }
 },
 "nbformat": 4,
 "nbformat_minor": 5
}
