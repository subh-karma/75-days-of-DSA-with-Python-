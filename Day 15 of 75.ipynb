{
 "cells": [
  {
   "cell_type": "code",
   "execution_count": 1,
   "id": "557a0dda",
   "metadata": {},
   "outputs": [],
   "source": [
    "def find_missing_number(arr):\n",
    "    n = len(arr)\n",
    "    \n",
    "    # Calculate the expected sum of numbers from 0 to n\n",
    "    expected_sum = n * (n + 1) // 2\n",
    "    \n",
    "    # Calculate the actual sum of elements in the array\n",
    "    actual_sum = sum(arr)\n",
    "    \n",
    "    # The missing number is the difference between expected and actual sum\n",
    "    missing_number = expected_sum - actual_sum\n",
    "    return missing_number\n",
    "\n",
    "\n"
   ]
  },
  {
   "cell_type": "code",
   "execution_count": 2,
   "id": "c40a31b9",
   "metadata": {},
   "outputs": [
    {
     "name": "stdout",
     "output_type": "stream",
     "text": [
      "The missing number is: 2\n"
     ]
    }
   ],
   "source": [
    "# Example usage\n",
    "array = [3, 0, 1]\n",
    "missing_num = find_missing_number(array)\n",
    "print(\"The missing number is:\", missing_num)"
   ]
  },
  {
   "cell_type": "code",
   "execution_count": null,
   "id": "0e34cd04",
   "metadata": {},
   "outputs": [],
   "source": []
  }
 ],
 "metadata": {
  "kernelspec": {
   "display_name": "Python 3 (ipykernel)",
   "language": "python",
   "name": "python3"
  },
  "language_info": {
   "codemirror_mode": {
    "name": "ipython",
    "version": 3
   },
   "file_extension": ".py",
   "mimetype": "text/x-python",
   "name": "python",
   "nbconvert_exporter": "python",
   "pygments_lexer": "ipython3",
   "version": "3.11.4"
  }
 },
 "nbformat": 4,
 "nbformat_minor": 5
}
