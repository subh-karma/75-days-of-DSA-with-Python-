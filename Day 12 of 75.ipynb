{
 "cells": [
  {
   "cell_type": "markdown",
   "id": "78ffad2d",
   "metadata": {},
   "source": [
    "# Problem:\n",
    "You’re given an ascending sorted array of integers nums, but an unknown integer target has been removed from the array. You know the array was consecutive (each element +1 of the previous) before the removal, except for the missing number."
   ]
  },
  {
   "cell_type": "raw",
   "id": "a6ca8c82",
   "metadata": {},
   "source": [
    "#example \n",
    "Input: nums = [1, 2, 3, 4, 6, 7, 8]\n",
    "Output: 5"
   ]
  },
  {
   "cell_type": "code",
   "execution_count": null,
   "id": "5ccaf817",
   "metadata": {},
   "outputs": [],
   "source": [
    "def f_miss(num):\n",
    "    left=0\n",
    "    right=len(num)+1\n",
    "    #mid = (left+right)//2\n",
    "    while left <= right:\n",
    "        mid = (left+right)//2\n",
    "        if num[mid] == mid +1:\n",
    "            left =mid +1\n",
    "        else :\n",
    "            right =mid -1 \n",
    "    return left +1 \n"
   ]
  },
  {
   "cell_type": "code",
   "execution_count": null,
   "id": "13cde708",
   "metadata": {},
   "outputs": [],
   "source": [
    "num = [1, 2, 3, 4, 6, 7, 8]\n",
    "right=len(num)+1 #int stars from 0 means 01234567 +1 =8\n",
    "print(right)\n",
    "f_miss(num)\n"
   ]
  },
  {
   "cell_type": "code",
   "execution_count": null,
   "id": "cc61307a",
   "metadata": {},
   "outputs": [],
   "source": []
  }
 ],
 "metadata": {
  "kernelspec": {
   "display_name": "Python 3 (ipykernel)",
   "language": "python",
   "name": "python3"
  },
  "language_info": {
   "codemirror_mode": {
    "name": "ipython",
    "version": 3
   },
   "file_extension": ".py",
   "mimetype": "text/x-python",
   "name": "python",
   "nbconvert_exporter": "python",
   "pygments_lexer": "ipython3",
   "version": "3.11.4"
  }
 },
 "nbformat": 4,
 "nbformat_minor": 5
}
