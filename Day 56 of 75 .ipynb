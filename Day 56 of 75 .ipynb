{
 "cells": [
  {
   "cell_type": "code",
   "execution_count": 1,
   "id": "024ee01e",
   "metadata": {},
   "outputs": [
    {
     "name": "stdout",
     "output_type": "stream",
     "text": [
      "First non-repeating at each step: [2, 2, 3, 3, 4, 4, 4]\n"
     ]
    }
   ],
   "source": [
    "from collections import deque, Counter\n",
    "\n",
    "def first_non_repeating(stream):\n",
    "    queue = deque()  # Queue to maintain order of characters\n",
    "    count = Counter()  # Counter to track occurrences of elements\n",
    "    result = []  # To store the first non-repeating integer at each step\n",
    "    \n",
    "    for num in stream:\n",
    "        # Add the current number to the queue and update its count\n",
    "        queue.append(num)\n",
    "        count[num] += 1\n",
    "\n",
    "        # Remove elements from the front of the queue if they are repeating\n",
    "        while queue and count[queue[0]] > 1:\n",
    "            queue.popleft()\n",
    "\n",
    "        # If queue is not empty, the front element is the first non-repeating integer\n",
    "        if queue:\n",
    "            result.append(queue[0])\n",
    "        else:\n",
    "            result.append(-1)\n",
    "    \n",
    "    return result\n",
    "\n",
    "# Test the function\n",
    "stream = [2, 3, 2, 4, 3, 5, 6]\n",
    "output = first_non_repeating(stream)\n",
    "print(\"First non-repeating at each step:\", output)\n"
   ]
  },
  {
   "cell_type": "code",
   "execution_count": null,
   "id": "cdb1b155",
   "metadata": {},
   "outputs": [],
   "source": []
  }
 ],
 "metadata": {
  "kernelspec": {
   "display_name": "Python 3 (ipykernel)",
   "language": "python",
   "name": "python3"
  },
  "language_info": {
   "codemirror_mode": {
    "name": "ipython",
    "version": 3
   },
   "file_extension": ".py",
   "mimetype": "text/x-python",
   "name": "python",
   "nbconvert_exporter": "python",
   "pygments_lexer": "ipython3",
   "version": "3.11.4"
  }
 },
 "nbformat": 4,
 "nbformat_minor": 5
}
