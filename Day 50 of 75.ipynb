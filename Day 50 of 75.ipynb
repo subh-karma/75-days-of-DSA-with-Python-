{
 "cells": [
  {
   "cell_type": "code",
   "execution_count": null,
   "id": "ca297948",
   "metadata": {},
   "outputs": [],
   "source": [
    "def third_largest(arr):\n",
    "    # Remove duplicates and sort the array in descending order\n",
    "    unique_sorted = sorted(set(arr), reverse=True)\n",
    "    # Check if there are at least 3 unique numbers\n",
    "    if len(unique_sorted) < 3:\n",
    "        return \"Not enough unique elements to find the 3rd largest.\"\n",
    "    return unique_sorted[2]\n",
    "\n",
    "# Example usage\n",
    "array = [10, 4, 3, 50, 23, 50, 4, 23]\n",
    "result = third_largest(array)\n",
    "print(\"3rd largest number:\", result)\n"
   ]
  }
 ],
 "metadata": {
  "kernelspec": {
   "display_name": "Python 3 (ipykernel)",
   "language": "python",
   "name": "python3"
  },
  "language_info": {
   "codemirror_mode": {
    "name": "ipython",
    "version": 3
   },
   "file_extension": ".py",
   "mimetype": "text/x-python",
   "name": "python",
   "nbconvert_exporter": "python",
   "pygments_lexer": "ipython3",
   "version": "3.11.4"
  }
 },
 "nbformat": 4,
 "nbformat_minor": 5
}
