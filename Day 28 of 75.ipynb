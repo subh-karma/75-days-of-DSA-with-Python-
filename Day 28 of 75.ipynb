{
 "cells": [
  {
   "cell_type": "code",
   "execution_count": 2,
   "id": "23cb6fcb",
   "metadata": {},
   "outputs": [
    {
     "name": "stdout",
     "output_type": "stream",
     "text": [
      "Lowest value: 4\n"
     ]
    }
   ],
   "source": [
    "my_array = [7, 12, 9, 4, 11]\n",
    "minVal = my_array[0]\n",
    "\n",
    "for i in my_array:\n",
    "    if i < minVal:\n",
    "        minVal = i\n",
    "\n",
    "print('Lowest value:',minVal)"
   ]
  },
  {
   "cell_type": "code",
   "execution_count": null,
   "id": "c97e3fc4",
   "metadata": {},
   "outputs": [],
   "source": []
  }
 ],
 "metadata": {
  "kernelspec": {
   "display_name": "Python 3 (ipykernel)",
   "language": "python",
   "name": "python3"
  },
  "language_info": {
   "codemirror_mode": {
    "name": "ipython",
    "version": 3
   },
   "file_extension": ".py",
   "mimetype": "text/x-python",
   "name": "python",
   "nbconvert_exporter": "python",
   "pygments_lexer": "ipython3",
   "version": "3.11.4"
  }
 },
 "nbformat": 4,
 "nbformat_minor": 5
}
