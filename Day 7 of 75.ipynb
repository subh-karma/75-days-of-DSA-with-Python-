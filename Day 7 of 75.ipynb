{
 "cells": [
  {
   "cell_type": "markdown",
   "id": "0d9a63f5",
   "metadata": {},
   "source": [
    "# Problem: Reverse an Array\n",
    "Problem Statement: Given an array of integers, write a function to reverse the array.\n",
    "\n",
    "Example:\n",
    "\n",
    "Input: arr = [1, 2, 3, 4, 5]\n",
    "Output: [5, 4, 3, 2, 1]"
   ]
  },
  {
   "cell_type": "code",
   "execution_count": 5,
   "id": "cab1c4ae",
   "metadata": {},
   "outputs": [],
   "source": [
    "def rev_arr(arr):\n",
    "    start=0\n",
    "    end=len(arr)-1\n",
    "    \n",
    "    while end> start:\n",
    "        arr[start],arr[end]=arr[end],arr[start]\n",
    "        \n",
    "        start +=1\n",
    "        end -= 1\n",
    "    return arr"
   ]
  },
  {
   "cell_type": "code",
   "execution_count": 6,
   "id": "0bf24792",
   "metadata": {},
   "outputs": [
    {
     "data": {
      "text/plain": [
       "[5, 4, 3, 2, 1]"
      ]
     },
     "execution_count": 6,
     "metadata": {},
     "output_type": "execute_result"
    }
   ],
   "source": [
    "arr = [1, 2, 3, 4, 5] \n",
    "rev_arr(arr)"
   ]
  },
  {
   "cell_type": "code",
   "execution_count": null,
   "id": "354d6117",
   "metadata": {},
   "outputs": [],
   "source": []
  }
 ],
 "metadata": {
  "kernelspec": {
   "display_name": "Python 3 (ipykernel)",
   "language": "python",
   "name": "python3"
  },
  "language_info": {
   "codemirror_mode": {
    "name": "ipython",
    "version": 3
   },
   "file_extension": ".py",
   "mimetype": "text/x-python",
   "name": "python",
   "nbconvert_exporter": "python",
   "pygments_lexer": "ipython3",
   "version": "3.11.4"
  }
 },
 "nbformat": 4,
 "nbformat_minor": 5
}
