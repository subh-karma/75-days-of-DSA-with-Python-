{
 "cells": [
  {
   "cell_type": "code",
   "execution_count": 1,
   "id": "bc06eae2",
   "metadata": {},
   "outputs": [
    {
     "name": "stdout",
     "output_type": "stream",
     "text": [
      "{1: 1, 2: 2, 3: 1, 4: 3}\n"
     ]
    }
   ],
   "source": [
    "def count_frequencies(arr):\n",
    "    # Initialize an empty dictionary to store frequencies\n",
    "    frequency_map = {}\n",
    "    \n",
    "    # Iterate through each element in the array\n",
    "    for num in arr:\n",
    "        # If the number is already in the dictionary, increment its count\n",
    "        if num in frequency_map:\n",
    "            frequency_map[num] += 1\n",
    "        else:\n",
    "            # Otherwise, add it to the dictionary with a count of 1\n",
    "            frequency_map[num] = 1\n",
    "    \n",
    "    return frequency_map\n",
    "\n",
    "# Example usage\n",
    "arr = [1, 2, 2, 3, 4, 4, 4]\n",
    "result = count_frequencies(arr)\n",
    "print(result)  # Output: {1: 1, 2: 2, 3: 1, 4: 3}\n"
   ]
  },
  {
   "cell_type": "code",
   "execution_count": null,
   "id": "506a87f9",
   "metadata": {},
   "outputs": [],
   "source": []
  }
 ],
 "metadata": {
  "kernelspec": {
   "display_name": "Python 3 (ipykernel)",
   "language": "python",
   "name": "python3"
  },
  "language_info": {
   "codemirror_mode": {
    "name": "ipython",
    "version": 3
   },
   "file_extension": ".py",
   "mimetype": "text/x-python",
   "name": "python",
   "nbconvert_exporter": "python",
   "pygments_lexer": "ipython3",
   "version": "3.11.4"
  }
 },
 "nbformat": 4,
 "nbformat_minor": 5
}
