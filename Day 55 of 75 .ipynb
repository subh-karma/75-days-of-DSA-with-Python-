{
 "cells": [
  {
   "cell_type": "code",
   "execution_count": 1,
   "id": "aaa1a1fe",
   "metadata": {},
   "outputs": [],
   "source": [
    "def reverse_sentence(sentence):\n",
    "    words = sentence.split()  # Split the sentence into words\n",
    "    reversed_sentence = ' '.join(reversed(words))  # Reverse the list of words and join them back\n",
    "    return reversed_sentence\n"
   ]
  },
  {
   "cell_type": "code",
   "execution_count": 2,
   "id": "a1425553",
   "metadata": {},
   "outputs": [
    {
     "name": "stdout",
     "output_type": "stream",
     "text": [
      "Python is this world Hello\n"
     ]
    }
   ],
   "source": [
    "sentence = \"Hello world this is Python\"\n",
    "print(reverse_sentence(sentence))  # Output: \"Python is this world Hello\"\n"
   ]
  },
  {
   "cell_type": "code",
   "execution_count": null,
   "id": "4e7dcfcb",
   "metadata": {},
   "outputs": [],
   "source": []
  }
 ],
 "metadata": {
  "kernelspec": {
   "display_name": "Python 3 (ipykernel)",
   "language": "python",
   "name": "python3"
  },
  "language_info": {
   "codemirror_mode": {
    "name": "ipython",
    "version": 3
   },
   "file_extension": ".py",
   "mimetype": "text/x-python",
   "name": "python",
   "nbconvert_exporter": "python",
   "pygments_lexer": "ipython3",
   "version": "3.11.4"
  }
 },
 "nbformat": 4,
 "nbformat_minor": 5
}
