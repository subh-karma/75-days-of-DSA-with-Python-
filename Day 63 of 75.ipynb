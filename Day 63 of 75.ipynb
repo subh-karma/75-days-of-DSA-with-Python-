{
 "cells": [
  {
   "cell_type": "code",
   "execution_count": 1,
   "id": "7aaeb993",
   "metadata": {},
   "outputs": [],
   "source": [
    "class Node:\n",
    "    \"\"\"Class to represent a node in the linked list.\"\"\"\n",
    "    def __init__(self, data):\n",
    "        self.data = data\n",
    "        self.next = None  # Pointer to the next node\n",
    "\n",
    "class LinkedList:\n",
    "    \"\"\"Class to represent a singly linked list.\"\"\"\n",
    "    def __init__(self):\n",
    "        self.head = None  # Head of the linked list\n",
    "\n",
    "    def insert_at_beginning(self, data):\n",
    "        \"\"\"Insert a new node at the beginning of the list.\"\"\"\n",
    "        new_node = Node(data)\n",
    "        new_node.next = self.head\n",
    "        self.head = new_node\n",
    "\n",
    "    def insert_at_end(self, data):\n",
    "        \"\"\"Insert a new node at the end of the list.\"\"\"\n",
    "        new_node = Node(data)\n",
    "        if not self.head:  # If the list is empty\n",
    "            self.head = new_node\n",
    "            return\n",
    "        temp = self.head\n",
    "        while temp.next:  # Traverse to the end of the list\n",
    "            temp = temp.next\n",
    "        temp.next = new_node\n",
    "\n",
    "    def delete_node(self, key):\n",
    "        \"\"\"Delete the first occurrence of a node with the given data.\"\"\"\n",
    "        temp = self.head\n",
    "\n",
    "        # If the head node itself holds the key\n",
    "        if temp and temp.data == key:\n",
    "            self.head = temp.next\n",
    "            temp = None\n",
    "            return\n",
    "\n",
    "        # Search for the key in the\n"
   ]
  },
  {
   "cell_type": "code",
   "execution_count": null,
   "id": "762e16a7",
   "metadata": {},
   "outputs": [],
   "source": []
  }
 ],
 "metadata": {
  "kernelspec": {
   "display_name": "Python 3 (ipykernel)",
   "language": "python",
   "name": "python3"
  },
  "language_info": {
   "codemirror_mode": {
    "name": "ipython",
    "version": 3
   },
   "file_extension": ".py",
   "mimetype": "text/x-python",
   "name": "python",
   "nbconvert_exporter": "python",
   "pygments_lexer": "ipython3",
   "version": "3.11.4"
  }
 },
 "nbformat": 4,
 "nbformat_minor": 5
}
