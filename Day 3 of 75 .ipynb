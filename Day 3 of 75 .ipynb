{
 "cells": [
  {
   "cell_type": "markdown",
   "id": "3205763f",
   "metadata": {},
   "source": [
    "# Problem: Find the First Non-Repeating Character in a String\n",
    "Problem Statement:\n",
    "Given a string s, find the first non-repeating character and return its index. If it does not exist, return -1.\n",
    "\n"
   ]
  },
  {
   "cell_type": "code",
   "execution_count": 1,
   "id": "865ee054",
   "metadata": {},
   "outputs": [],
   "source": [
    "def firstUniqChar(s: str) -> int:\n",
    "    # Step 1: Create a frequency dictionary\n",
    "    freq = {}\n",
    "    \n",
    "    # Count the frequency of each character\n",
    "    for char in s:\n",
    "        freq[char] = freq.get(char, 0) + 1\n",
    "    \n",
    "    # Step 2: Find the first non-repeating character\n",
    "    for i, char in enumerate(s):\n",
    "        if freq[char] == 1:\n",
    "            return i  # Return the index of the first non-repeating character\n",
    "    \n",
    "    return -1  # If no non-repeating character exists\n"
   ]
  },
  {
   "cell_type": "code",
   "execution_count": 2,
   "id": "aa7a82e3",
   "metadata": {},
   "outputs": [
    {
     "data": {
      "text/plain": [
       "2"
      ]
     },
     "execution_count": 2,
     "metadata": {},
     "output_type": "execute_result"
    }
   ],
   "source": [
    "s = \"loveleetcode\"\n",
    "firstUniqChar(s)"
   ]
  },
  {
   "cell_type": "code",
   "execution_count": null,
   "id": "5500cdef",
   "metadata": {},
   "outputs": [],
   "source": []
  }
 ],
 "metadata": {
  "kernelspec": {
   "display_name": "Python 3 (ipykernel)",
   "language": "python",
   "name": "python3"
  },
  "language_info": {
   "codemirror_mode": {
    "name": "ipython",
    "version": 3
   },
   "file_extension": ".py",
   "mimetype": "text/x-python",
   "name": "python",
   "nbconvert_exporter": "python",
   "pygments_lexer": "ipython3",
   "version": "3.11.4"
  }
 },
 "nbformat": 4,
 "nbformat_minor": 5
}
