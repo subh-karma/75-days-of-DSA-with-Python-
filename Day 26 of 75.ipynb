{
 "cells": [
  {
   "cell_type": "markdown",
   "id": "4365c607",
   "metadata": {},
   "source": [
    "# max element "
   ]
  },
  {
   "cell_type": "code",
   "execution_count": 1,
   "id": "e8029a37",
   "metadata": {},
   "outputs": [],
   "source": [
    "def max_el(arr):\n",
    "    maxx=arr[0]\n",
    "    for i in arr:\n",
    "        if i> maxx:\n",
    "            maxx==1\n",
    "            \n",
    "        return i\n",
    "            "
   ]
  },
  {
   "cell_type": "code",
   "execution_count": 2,
   "id": "f756ee25",
   "metadata": {},
   "outputs": [
    {
     "data": {
      "text/plain": [
       "11"
      ]
     },
     "execution_count": 2,
     "metadata": {},
     "output_type": "execute_result"
    }
   ],
   "source": [
    "arr=[11,1,2,3,4,5]\n",
    "max_el(arr)"
   ]
  },
  {
   "cell_type": "markdown",
   "id": "035d6e40",
   "metadata": {},
   "source": [
    "# second max element "
   ]
  },
  {
   "cell_type": "code",
   "execution_count": 3,
   "id": "51ae9d98",
   "metadata": {},
   "outputs": [],
   "source": [
    "def sec_max(arr):\n",
    "    first=second=None\n",
    "    for num in arr:\n",
    "        if first is None or num > first:\n",
    "            second = first\n",
    "            first = num\n",
    "        elif second is None or (num > second and num != first):\n",
    "            second = first \n",
    "        return second"
   ]
  },
  {
   "cell_type": "code",
   "execution_count": 5,
   "id": "039e8a05",
   "metadata": {},
   "outputs": [
    {
     "name": "stdout",
     "output_type": "stream",
     "text": [
      "There is no second largest element.\n"
     ]
    }
   ],
   "source": [
    "arr=[11,1,2,3,4,5]\n",
    "result=sec_max(arr)\n",
    "\n",
    "if result is None:\n",
    "    print(\"There is no second largest element.\")\n",
    "else:\n",
    "    print(\"The second largest element is:\", result)"
   ]
  },
  {
   "cell_type": "code",
   "execution_count": null,
   "id": "f64a4a84",
   "metadata": {},
   "outputs": [],
   "source": []
  }
 ],
 "metadata": {
  "kernelspec": {
   "display_name": "Python 3 (ipykernel)",
   "language": "python",
   "name": "python3"
  },
  "language_info": {
   "codemirror_mode": {
    "name": "ipython",
    "version": 3
   },
   "file_extension": ".py",
   "mimetype": "text/x-python",
   "name": "python",
   "nbconvert_exporter": "python",
   "pygments_lexer": "ipython3",
   "version": "3.11.4"
  }
 },
 "nbformat": 4,
 "nbformat_minor": 5
}
