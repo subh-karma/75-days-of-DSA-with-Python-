{
 "cells": [
  {
   "cell_type": "code",
   "execution_count": 1,
   "id": "43b267c8",
   "metadata": {},
   "outputs": [
    {
     "name": "stdout",
     "output_type": "stream",
     "text": [
      "Maximum Subarray Sum: 6\n"
     ]
    }
   ],
   "source": [
    "def max_subarray_sum(nums):\n",
    "    \"\"\"\n",
    "    Find the maximum sum of a contiguous subarray using Kadane's Algorithm.\n",
    "    Args:\n",
    "    nums (list): List of integers (positive, negative, or zero).\n",
    "    \n",
    "    Returns:\n",
    "    int: Maximum subarray sum.\n",
    "    \"\"\"\n",
    "    # Initialize variables\n",
    "    max_sum = float('-inf')  # Smallest possible number\n",
    "    current_sum = 0\n",
    "\n",
    "    for num in nums:\n",
    "        # Add the current number to the running sum\n",
    "        current_sum += num\n",
    "\n",
    "        # Update max_sum if current_sum is greater\n",
    "        max_sum = max(max_sum, current_sum)\n",
    "\n",
    "        # Reset current_sum to 0 if it becomes negative\n",
    "        if current_sum < 0:\n",
    "            current_sum = 0\n",
    "\n",
    "    return max_sum\n",
    "\n",
    "\n",
    "# Test the function\n",
    "if __name__ == \"__main__\":\n",
    "    test_array = [-2, 1, -3, 4, -1, 2, 1, -5, 4]\n",
    "    print(\"Maximum Subarray Sum:\", max_subarray_sum(test_array))\n"
   ]
  },
  {
   "cell_type": "code",
   "execution_count": 2,
   "id": "392ba586",
   "metadata": {},
   "outputs": [],
   "source": [
    "max_subarray_sum?"
   ]
  },
  {
   "cell_type": "code",
   "execution_count": null,
   "id": "a998bc0b",
   "metadata": {},
   "outputs": [],
   "source": []
  }
 ],
 "metadata": {
  "kernelspec": {
   "display_name": "Python 3 (ipykernel)",
   "language": "python",
   "name": "python3"
  },
  "language_info": {
   "codemirror_mode": {
    "name": "ipython",
    "version": 3
   },
   "file_extension": ".py",
   "mimetype": "text/x-python",
   "name": "python",
   "nbconvert_exporter": "python",
   "pygments_lexer": "ipython3",
   "version": "3.11.4"
  }
 },
 "nbformat": 4,
 "nbformat_minor": 5
}
