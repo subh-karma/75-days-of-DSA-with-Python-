{
 "cells": [
  {
   "cell_type": "code",
   "execution_count": 1,
   "id": "a8ab7c1c",
   "metadata": {},
   "outputs": [
    {
     "name": "stdout",
     "output_type": "stream",
     "text": [
      "[1, 2, 3]\n",
      "True\n",
      "[1, 3]\n",
      "2\n"
     ]
    }
   ],
   "source": [
    "class CustomSet:\n",
    "    def __init__(self):\n",
    "        # Initialize an empty set\n",
    "        self.set_data = []\n",
    "        \n",
    "    def add(self, value):\n",
    "        # Add a value to the set if it doesn't exist\n",
    "        if value not in self.set_data:\n",
    "            self.set_data.append(value)\n",
    "        \n",
    "    def remove(self, value):\n",
    "        # Remove a value from the set if it exists\n",
    "        if value in self.set_data:\n",
    "            self.set_data.remove(value)\n",
    "        else:\n",
    "            print(f\"{value} not found in set.\")\n",
    "        \n",
    "    def contains(self, value):\n",
    "        # Check if the set contains a value\n",
    "        return value in self.set_data\n",
    "    \n",
    "    def size(self):\n",
    "        # Return the size of the set\n",
    "        return len(self.set_data)\n",
    "    \n",
    "    def display(self):\n",
    "        # Display the elements in the set\n",
    "        print(self.set_data)\n",
    "\n",
    "# Example usage\n",
    "my_set = CustomSet()\n",
    "my_set.add(1)\n",
    "my_set.add(2)\n",
    "my_set.add(2)  # Duplicate, won't be added\n",
    "my_set.add(3)\n",
    "my_set.display()  # Output: [1, 2, 3]\n",
    "print(my_set.contains(2))  # Output: True\n",
    "my_set.remove(2)\n",
    "my_set.display()  # Output: [1, 3]\n",
    "print(my_set.size())  # Output: 2\n"
   ]
  },
  {
   "cell_type": "code",
   "execution_count": null,
   "id": "d7613178",
   "metadata": {},
   "outputs": [],
   "source": []
  }
 ],
 "metadata": {
  "kernelspec": {
   "display_name": "Python 3 (ipykernel)",
   "language": "python",
   "name": "python3"
  },
  "language_info": {
   "codemirror_mode": {
    "name": "ipython",
    "version": 3
   },
   "file_extension": ".py",
   "mimetype": "text/x-python",
   "name": "python",
   "nbconvert_exporter": "python",
   "pygments_lexer": "ipython3",
   "version": "3.11.4"
  }
 },
 "nbformat": 4,
 "nbformat_minor": 5
}
