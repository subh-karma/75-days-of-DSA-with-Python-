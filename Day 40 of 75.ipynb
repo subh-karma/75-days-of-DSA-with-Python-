{
 "cells": [
  {
   "cell_type": "code",
   "execution_count": 1,
   "id": "c7848cfb",
   "metadata": {},
   "outputs": [
    {
     "name": "stdout",
     "output_type": "stream",
     "text": [
      "Second Largest in arr1: 34\n",
      "Second Largest in arr2: 5\n"
     ]
    }
   ],
   "source": [
    "def find_second_largest(arr):\n",
    "    # Check if the array has at least two unique elements\n",
    "    if len(set(arr)) < 2:\n",
    "        return \"Array doesn't have enough unique elements.\"\n",
    "\n",
    "    # Initialize the largest and second largest variables\n",
    "    largest = second_largest = float('-inf')\n",
    "\n",
    "    # Find the largest element\n",
    "    for num in arr:\n",
    "        if num > largest:\n",
    "            largest = num\n",
    "\n",
    "    # Find the second largest element\n",
    "    for num in arr:\n",
    "        if num != largest and num > second_largest:\n",
    "            second_largest = num\n",
    "\n",
    "    return second_largest\n",
    "\n",
    "# Example usage\n",
    "arr1 = [12, 35, 1, 10, 34, 1]\n",
    "arr2 = [10, 5, 10]\n",
    "print(\"Second Largest in arr1:\", find_second_largest(arr1))  # Output: 34\n",
    "print(\"Second Largest in arr2:\", find_second_largest(arr2))  # Output: 5\n"
   ]
  },
  {
   "cell_type": "code",
   "execution_count": null,
   "id": "f1f6e2ad",
   "metadata": {},
   "outputs": [],
   "source": []
  }
 ],
 "metadata": {
  "kernelspec": {
   "display_name": "Python 3 (ipykernel)",
   "language": "python",
   "name": "python3"
  },
  "language_info": {
   "codemirror_mode": {
    "name": "ipython",
    "version": 3
   },
   "file_extension": ".py",
   "mimetype": "text/x-python",
   "name": "python",
   "nbconvert_exporter": "python",
   "pygments_lexer": "ipython3",
   "version": "3.11.4"
  }
 },
 "nbformat": 4,
 "nbformat_minor": 5
}
