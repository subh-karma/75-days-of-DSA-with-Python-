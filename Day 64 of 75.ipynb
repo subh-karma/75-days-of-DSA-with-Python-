{
 "cells": [
  {
   "cell_type": "code",
   "execution_count": 1,
   "id": "4eb0dece",
   "metadata": {},
   "outputs": [
    {
     "name": "stdout",
     "output_type": "stream",
     "text": [
      "Enqueued: 10\n",
      "Enqueued: 20\n",
      "Enqueued: 30\n",
      "Front item: 10\n",
      "Dequeued: 10\n",
      "Queue size: 2\n"
     ]
    }
   ],
   "source": [
    "# Queue implementation using List\n",
    "class QueueUsingList:\n",
    "    def __init__(self):\n",
    "        self.queue = []\n",
    "\n",
    "    def enqueue(self, item):\n",
    "        self.queue.append(item)\n",
    "        print(f\"Enqueued: {item}\")\n",
    "\n",
    "    def dequeue(self):\n",
    "        if not self.is_empty():\n",
    "            item = self.queue.pop(0)\n",
    "            print(f\"Dequeued: {item}\")\n",
    "            return item\n",
    "        else:\n",
    "            print(\"Queue is empty!\")\n",
    "            return None\n",
    "\n",
    "    def peek(self):\n",
    "        if not self.is_empty():\n",
    "            return self.queue[0]\n",
    "        else:\n",
    "            print(\"Queue is empty!\")\n",
    "            return None\n",
    "\n",
    "    def is_empty(self):\n",
    "        return len(self.queue) == 0\n",
    "\n",
    "    def size(self):\n",
    "        return len(self.queue)\n",
    "\n",
    "# Example usage\n",
    "q = QueueUsingList()\n",
    "q.enqueue(10)\n",
    "q.enqueue(20)\n",
    "q.enqueue(30)\n",
    "print(\"Front item:\", q.peek())\n",
    "q.dequeue()\n",
    "print(\"Queue size:\", q.size())\n"
   ]
  },
  {
   "cell_type": "code",
   "execution_count": null,
   "id": "dcef7636",
   "metadata": {},
   "outputs": [],
   "source": []
  }
 ],
 "metadata": {
  "kernelspec": {
   "display_name": "Python 3 (ipykernel)",
   "language": "python",
   "name": "python3"
  },
  "language_info": {
   "codemirror_mode": {
    "name": "ipython",
    "version": 3
   },
   "file_extension": ".py",
   "mimetype": "text/x-python",
   "name": "python",
   "nbconvert_exporter": "python",
   "pygments_lexer": "ipython3",
   "version": "3.11.4"
  }
 },
 "nbformat": 4,
 "nbformat_minor": 5
}
