{
 "cells": [
  {
   "cell_type": "markdown",
   "id": "d3a3997e",
   "metadata": {},
   "source": [
    "# Problem: Find the Second Largest Element in an Array\n"
   ]
  },
  {
   "cell_type": "code",
   "execution_count": 17,
   "id": "9ffc8794",
   "metadata": {},
   "outputs": [
    {
     "data": {
      "text/plain": [
       "15"
      ]
     },
     "execution_count": 17,
     "metadata": {},
     "output_type": "execute_result"
    }
   ],
   "source": [
    "arr=[10, 5, 8, 20, 15]\n",
    "\n",
    "def max_arr(arr):\n",
    "    max2=arr[0]\n",
    "    for i in arr:\n",
    "        if i > max2:\n",
    "            max2=i     \n",
    "    return i\n",
    "max_arr(arr)"
   ]
  },
  {
   "cell_type": "code",
   "execution_count": 10,
   "id": "50b4133e",
   "metadata": {},
   "outputs": [
    {
     "data": {
      "text/plain": [
       "15"
      ]
     },
     "execution_count": 10,
     "metadata": {},
     "output_type": "execute_result"
    }
   ],
   "source": [
    "arr=[10, 5, 8, 20, 15]\n",
    "arr.sort()\n",
    "arr[-2]"
   ]
  },
  {
   "cell_type": "code",
   "execution_count": 18,
   "id": "5928fd9f",
   "metadata": {},
   "outputs": [
    {
     "name": "stdout",
     "output_type": "stream",
     "text": [
      "Second largest element: 15\n"
     ]
    }
   ],
   "source": [
    "def find_second_largest(arr):\n",
    "    if len(arr) < 2:\n",
    "        return None  # Return None if there aren't enough elements\n",
    "    \n",
    "    first = second = float('-inf')  # Initialize to negative infinity\n",
    "    \n",
    "    for num in arr:\n",
    "        if num > first:  # If current number is greater than the largest\n",
    "            second = first  # The old first becomes the second largest\n",
    "            first = num  # The current number becomes the largest\n",
    "        elif num > second and num != first:  # Update second if current number is between first and second\n",
    "            second = num\n",
    "    \n",
    "    return second if second != float('-inf') else None  # Return second largest or None if not found\n",
    "\n",
    "# Test case\n",
    "arr = [10, 5, 8, 20, 15]\n",
    "result = find_second_largest(arr)\n",
    "print(\"Second largest element:\", result)\n"
   ]
  },
  {
   "cell_type": "code",
   "execution_count": null,
   "id": "6c1bb4b8",
   "metadata": {},
   "outputs": [],
   "source": []
  }
 ],
 "metadata": {
  "kernelspec": {
   "display_name": "Python 3 (ipykernel)",
   "language": "python",
   "name": "python3"
  },
  "language_info": {
   "codemirror_mode": {
    "name": "ipython",
    "version": 3
   },
   "file_extension": ".py",
   "mimetype": "text/x-python",
   "name": "python",
   "nbconvert_exporter": "python",
   "pygments_lexer": "ipython3",
   "version": "3.11.4"
  }
 },
 "nbformat": 4,
 "nbformat_minor": 5
}
